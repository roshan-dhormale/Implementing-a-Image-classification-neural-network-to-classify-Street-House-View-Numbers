{
 "cells": [
  {
   "cell_type": "markdown",
   "metadata": {},
   "source": [
    "# Neural Network Project\n"
   ]
  },
  {
   "cell_type": "markdown",
   "metadata": {},
   "source": [
    "#  Import Librabries"
   ]
  },
  {
   "cell_type": "code",
   "execution_count": 30,
   "metadata": {},
   "outputs": [],
   "source": [
    "import pandas as pd\n",
    "import numpy as np\n",
    "import matplotlib.pyplot as plt\n",
    "%matplotlib inline\n",
    "import warnings"
   ]
  },
  {
   "cell_type": "code",
   "execution_count": 31,
   "metadata": {},
   "outputs": [],
   "source": [
    "import tensorflow as tf"
   ]
  },
  {
   "cell_type": "code",
   "execution_count": 32,
   "metadata": {},
   "outputs": [],
   "source": [
    "import keras"
   ]
  },
  {
   "cell_type": "code",
   "execution_count": 33,
   "metadata": {},
   "outputs": [
    {
     "data": {
      "text/plain": [
       "'2.1.0'"
      ]
     },
     "execution_count": 33,
     "metadata": {},
     "output_type": "execute_result"
    }
   ],
   "source": [
    "tf.__version__"
   ]
  },
  {
   "cell_type": "markdown",
   "metadata": {},
   "source": [
    "# Loading Data Set"
   ]
  },
  {
   "cell_type": "code",
   "execution_count": 34,
   "metadata": {},
   "outputs": [],
   "source": [
    "import h5py"
   ]
  },
  {
   "cell_type": "code",
   "execution_count": 35,
   "metadata": {},
   "outputs": [],
   "source": [
    "h5f=h5py.File('SVHN_single_grey1.h5',mode='r')"
   ]
  },
  {
   "cell_type": "code",
   "execution_count": 36,
   "metadata": {},
   "outputs": [
    {
     "data": {
      "text/plain": [
       "<KeysViewHDF5 ['X_test', 'X_train', 'X_val', 'y_test', 'y_train', 'y_val']>"
      ]
     },
     "execution_count": 36,
     "metadata": {},
     "output_type": "execute_result"
    }
   ],
   "source": [
    "# Views available from member names( help taken from Github)\n",
    "h5f.keys()"
   ]
  },
  {
   "cell_type": "code",
   "execution_count": 37,
   "metadata": {},
   "outputs": [],
   "source": [
    "# Creating the dataset\n",
    "X_train=h5f['X_train'][:]\n",
    "y_train1=h5f['y_train'][:]\n",
    "X_test=h5f['X_test'][:]\n",
    "y_test1=h5f['y_test'][:]\n",
    "X_val=h5f['X_val'][:]\n",
    "y_val=h5f['y_val'][:]"
   ]
  },
  {
   "cell_type": "code",
   "execution_count": 38,
   "metadata": {},
   "outputs": [],
   "source": [
    "h5f.close()"
   ]
  },
  {
   "cell_type": "code",
   "execution_count": 39,
   "metadata": {},
   "outputs": [
    {
     "data": {
      "text/plain": [
       "(42000, 32, 32)"
      ]
     },
     "execution_count": 39,
     "metadata": {},
     "output_type": "execute_result"
    }
   ],
   "source": [
    "# Checking shape of Datasets\n",
    "X_train.shape"
   ]
  },
  {
   "cell_type": "code",
   "execution_count": 40,
   "metadata": {},
   "outputs": [
    {
     "data": {
      "text/plain": [
       "(42000,)"
      ]
     },
     "execution_count": 40,
     "metadata": {},
     "output_type": "execute_result"
    }
   ],
   "source": [
    "y_train1.shape"
   ]
  },
  {
   "cell_type": "code",
   "execution_count": 41,
   "metadata": {},
   "outputs": [
    {
     "data": {
      "text/plain": [
       "(18000, 32, 32)"
      ]
     },
     "execution_count": 41,
     "metadata": {},
     "output_type": "execute_result"
    }
   ],
   "source": [
    "X_test.shape"
   ]
  },
  {
   "cell_type": "markdown",
   "metadata": {},
   "source": [
    "Testing sets have 30% data"
   ]
  },
  {
   "cell_type": "code",
   "execution_count": 42,
   "metadata": {},
   "outputs": [
    {
     "data": {
      "text/plain": [
       "(18000,)"
      ]
     },
     "execution_count": 42,
     "metadata": {},
     "output_type": "execute_result"
    }
   ],
   "source": [
    "y_test1.shape"
   ]
  },
  {
   "cell_type": "markdown",
   "metadata": {},
   "source": [
    "Training set has 42000 images of 32 x 32 & Test sest has 1800 images"
   ]
  },
  {
   "cell_type": "code",
   "execution_count": 43,
   "metadata": {},
   "outputs": [
    {
     "data": {
      "text/plain": [
       "(60000, 32, 32)"
      ]
     },
     "execution_count": 43,
     "metadata": {},
     "output_type": "execute_result"
    }
   ],
   "source": [
    "X_val.shape"
   ]
  },
  {
   "cell_type": "code",
   "execution_count": 44,
   "metadata": {},
   "outputs": [
    {
     "data": {
      "text/plain": [
       "(60000,)"
      ]
     },
     "execution_count": 44,
     "metadata": {},
     "output_type": "execute_result"
    }
   ],
   "source": [
    "y_val.shape"
   ]
  },
  {
   "cell_type": "markdown",
   "metadata": {},
   "source": [
    "Validation set has 60000 images"
   ]
  },
  {
   "cell_type": "markdown",
   "metadata": {},
   "source": [
    "### Basic Image Classification"
   ]
  },
  {
   "cell_type": "markdown",
   "metadata": {},
   "source": [
    "#### Data Visualisation"
   ]
  },
  {
   "cell_type": "code",
   "execution_count": 45,
   "metadata": {},
   "outputs": [
    {
     "data": {
      "image/png": "[encoded data removed]",
      "text/plain": [
       "<Figure size 720x720 with 49 Axes>"
      ]
     },
     "metadata": {
      "needs_background": "light"
     },
     "output_type": "display_data"
    }
   ],
   "source": [
    "# Data visualisation \n",
    "fig=plt.figure(figsize=(10,10))\n",
    "col=7\n",
    "ro=7\n",
    "for i in range(1, col*ro+1):\n",
    "    image=X_test[i]\n",
    "    fig.add_subplot(ro,col,i)\n",
    "    plt.imshow(image,cmap='gray')\n",
    "plt.show()"
   ]
  },
  {
   "cell_type": "markdown",
   "metadata": {},
   "source": [
    "Checking 49 images from testing Sets "
   ]
  },
  {
   "cell_type": "code",
   "execution_count": 46,
   "metadata": {},
   "outputs": [
    {
     "data": {
      "image/png": "[encoded data removed]",
      "text/plain": [
       "<Figure size 432x288 with 1 Axes>"
      ]
     },
     "metadata": {
      "needs_background": "light"
     },
     "output_type": "display_data"
    },
    {
     "name": "stdout",
     "output_type": "stream",
     "text": [
      "3\n"
     ]
    }
   ],
   "source": [
    "# Show a random input with respect to output\n",
    "i = 900\n",
    "plt.imshow(X_train[i,:], cmap = 'gray')\n",
    "plt.show()\n",
    "print(y_train1[i])"
   ]
  },
  {
   "cell_type": "markdown",
   "metadata": {},
   "source": [
    "Randomly checking input image with its label"
   ]
  },
  {
   "cell_type": "code",
   "execution_count": 47,
   "metadata": {},
   "outputs": [
    {
     "data": {
      "image/png": "[encoded data removed]",
      "text/plain": [
       "<Figure size 432x288 with 1 Axes>"
      ]
     },
     "metadata": {
      "needs_background": "light"
     },
     "output_type": "display_data"
    },
    {
     "name": "stdout",
     "output_type": "stream",
     "text": [
      "5\n"
     ]
    }
   ],
   "source": [
    "# Show a random input\n",
    "i = 4187\n",
    "plt.imshow(X_train[i,:], cmap = 'gray')\n",
    "plt.show()\n",
    "print(y_train1[i])"
   ]
  },
  {
   "cell_type": "code",
   "execution_count": 48,
   "metadata": {},
   "outputs": [
    {
     "data": {
      "image/png": "[encoded data removed]",
      "text/plain": [
       "<Figure size 1440x1440 with 10 Axes>"
      ]
     },
     "metadata": {
      "needs_background": "light"
     },
     "output_type": "display_data"
    },
    {
     "name": "stdout",
     "output_type": "stream",
     "text": [
      "Label of the image is [5 7 9 1 0 3 0 7 2 1] respectively\n"
     ]
    }
   ],
   "source": [
    "plt.figure(figsize=(20, 20))\n",
    "for i in range(21, 31, 1):\n",
    "    plt.subplot(21, 31, i+1)\n",
    "    plt.imshow(X_train[i],cmap='gray')\n",
    "    plt.axis('off')\n",
    "plt.show()\n",
    "print('Label of the image is %s respectively' % (y_train1[21:31]) )"
   ]
  },
  {
   "cell_type": "markdown",
   "metadata": {},
   "source": [
    "Checking 10 images selcted from randomly from training sets along with its label."
   ]
  },
  {
   "cell_type": "code",
   "execution_count": 49,
   "metadata": {},
   "outputs": [],
   "source": [
    "#Reshaping Data from 2D to 1D\n",
    "#X_train=np.asarray(X_train).reshape(42000, 1024)\n",
    "#X_test=np.asarray(X_test).reshape(18000, 1024)\n",
    "#X_val=np.asarray(X_val).reshape(60000, 1024)"
   ]
  },
  {
   "cell_type": "markdown",
   "metadata": {},
   "source": [
    "### Implement Deep Neural Network"
   ]
  },
  {
   "cell_type": "code",
   "execution_count": 50,
   "metadata": {},
   "outputs": [],
   "source": [
    "from tensorflow.keras.utils import to_categorical\n",
    "from sklearn.metrics import confusion_matrix,accuracy_score\n",
    "from sklearn.metrics import classification_report\n",
    "from keras.models import Sequential\n",
    "from keras.utils.np_utils import to_categorical\n",
    "from keras.layers import Activation, Dense\n",
    "from keras.layers import BatchNormalization, Dropout\n",
    "from keras import optimizers"
   ]
  },
  {
   "cell_type": "code",
   "execution_count": 51,
   "metadata": {},
   "outputs": [
    {
     "name": "stdout",
     "output_type": "stream",
     "text": [
      "Value before encoding: 2\n"
     ]
    }
   ],
   "source": [
    "print(\"Value before encoding:\", y_train1[0])"
   ]
  },
  {
   "cell_type": "code",
   "execution_count": 52,
   "metadata": {},
   "outputs": [
    {
     "name": "stdout",
     "output_type": "stream",
     "text": [
      "Shape of y_train: (42000, 10)\n",
      "One hot encoded value of y_train: [0. 0. 1. 0. 0. 0. 0. 0. 0. 0.]\n"
     ]
    }
   ],
   "source": [
    "y_train1 = to_categorical(y_train1, num_classes=10)\n",
    "y_test1 = to_categorical(y_test1, num_classes=10)\n",
    "y_val = to_categorical(y_val, num_classes=10)\n",
    "\n",
    "print(\"Shape of y_train:\", y_train1.shape)\n",
    "print(\"One hot encoded value of y_train:\", y_train1[0])"
   ]
  },
  {
   "cell_type": "code",
   "execution_count": 53,
   "metadata": {},
   "outputs": [],
   "source": [
    "# Initialize Sequential model\n",
    "model0 = tf.keras.models.Sequential()\n",
    "\n",
    "# Reshape data from 2D to 1D -> 32x32 to 1024\n",
    "model0.add(tf.keras.layers.Reshape((1024,),input_shape=(32,32,)))\n",
    "\n",
    "# Normalize the data\n",
    "# model.add(tf.keras.layers.BatchNormalization())"
   ]
  },
  {
   "cell_type": "markdown",
   "metadata": {},
   "source": [
    "### Optimisers"
   ]
  },
  {
   "cell_type": "code",
   "execution_count": 54,
   "metadata": {},
   "outputs": [],
   "source": [
    "adam_optimiser1=tf.keras.optimizers.Adam(lr=0.01)\n",
    "adam_optimiser2=tf.keras.optimizers.Adam(lr=0.0001)\n",
    "sgd_optimiser1=tf.keras.optimizers.SGD(lr=0.01)\n",
    "sgd_optimiser2=tf.keras.optimizers.SGD(lr=0.0001)"
   ]
  },
  {
   "cell_type": "markdown",
   "metadata": {},
   "source": [
    "Step 1\n",
    "#### Optimizer: \"adam\"  with Learning Rate: 0.01\n",
    "#### Activation Function: \"relu\""
   ]
  },
  {
   "cell_type": "code",
   "execution_count": 55,
   "metadata": {},
   "outputs": [],
   "source": [
    "#Input Layer\n",
    "model0.add(tf.keras.layers.Dense(512, activation='relu', name='Input'))\n",
    "\n",
    "# Hidden layers\n",
    "model0.add(tf.keras.layers.Dense(256, activation='relu', name='Layer_1'))\n",
    "model0.add(tf.keras.layers.Dense(128, activation='relu', name='Layer_2'))\n",
    "\n",
    "\n",
    "# Hidden layers\n",
    "model0.add(tf.keras.layers.Dense(64, activation='relu', name='Layer_3'))\n",
    "model0.add(tf.keras.layers.Dense(32, activation='relu', name='Layer_4'))\n",
    "\n",
    "\n",
    "#Output layer\n",
    "model0.add(tf.keras.layers.Dense(10, activation='softmax', name='Output'))"
   ]
  },
  {
   "cell_type": "code",
   "execution_count": 56,
   "metadata": {},
   "outputs": [
    {
     "name": "stdout",
     "output_type": "stream",
     "text": [
      "Model: \"sequential\"\n",
      "_________________________________________________________________\n",
      "Layer (type)                 Output Shape              Param #   \n",
      "=================================================================\n",
      "reshape (Reshape)            (None, 1024)              0         \n",
      "_________________________________________________________________\n",
      "Input (Dense)                (None, 512)               524800    \n",
      "_________________________________________________________________\n",
      "Layer_1 (Dense)              (None, 256)               131328    \n",
      "_________________________________________________________________\n",
      "Layer_2 (Dense)              (None, 128)               32896     \n",
      "_________________________________________________________________\n",
      "Layer_3 (Dense)              (None, 64)                8256      \n",
      "_________________________________________________________________\n",
      "Layer_4 (Dense)              (None, 32)                2080      \n",
      "_________________________________________________________________\n",
      "Output (Dense)               (None, 10)                330       \n",
      "=================================================================\n",
      "Total params: 699,690\n",
      "Trainable params: 699,690\n",
      "Non-trainable params: 0\n",
      "_________________________________________________________________\n"
     ]
    }
   ],
   "source": [
    "model0.summary()"
   ]
  },
  {
   "cell_type": "code",
   "execution_count": 57,
   "metadata": {},
   "outputs": [],
   "source": [
    "model0.compile(optimizer=adam_optimiser1, loss='categorical_crossentropy', metrics=['accuracy']) # adam Lr=0.01"
   ]
  },
  {
   "cell_type": "code",
   "execution_count": 58,
   "metadata": {},
   "outputs": [
    {
     "name": "stdout",
     "output_type": "stream",
     "text": [
      "Train on 42000 samples, validate on 60000 samples\n",
      "Epoch 1/10\n",
      "42000/42000 [==============================] - 16s 371us/sample - loss: 9.6227 - accuracy: 0.1004 - val_loss: 2.3036 - val_accuracy: 0.1000\n",
      "Epoch 2/10\n",
      "42000/42000 [==============================] - 14s 341us/sample - loss: 2.3038 - accuracy: 0.0991 - val_loss: 2.3052 - val_accuracy: 0.1000\n",
      "Epoch 3/10\n",
      "42000/42000 [==============================] - 13s 306us/sample - loss: 2.3041 - accuracy: 0.0990 - val_loss: 2.3041 - val_accuracy: 0.1000\n",
      "Epoch 4/10\n",
      "42000/42000 [==============================] - 13s 305us/sample - loss: 2.3041 - accuracy: 0.1005 - val_loss: 2.3035 - val_accuracy: 0.1000\n",
      "Epoch 5/10\n",
      "42000/42000 [==============================] - 13s 308us/sample - loss: 2.3040 - accuracy: 0.1004 - val_loss: 2.3032 - val_accuracy: 0.1000\n",
      "Epoch 6/10\n",
      "42000/42000 [==============================] - 13s 317us/sample - loss: 2.3041 - accuracy: 0.0976 - val_loss: 2.3038 - val_accuracy: 0.1000\n",
      "Epoch 7/10\n",
      "42000/42000 [==============================] - 13s 306us/sample - loss: 2.3039 - accuracy: 0.0986 - val_loss: 2.3037 - val_accuracy: 0.1000\n",
      "Epoch 8/10\n",
      "42000/42000 [==============================] - 13s 307us/sample - loss: 2.3038 - accuracy: 0.1003 - val_loss: 2.3046 - val_accuracy: 0.1000\n",
      "Epoch 9/10\n",
      "42000/42000 [==============================] - 13s 308us/sample - loss: 2.3039 - accuracy: 0.0996 - val_loss: 2.3035 - val_accuracy: 0.1000\n",
      "Epoch 10/10\n",
      "42000/42000 [==============================] - 13s 309us/sample - loss: 2.3039 - accuracy: 0.1022 - val_loss: 2.3036 - val_accuracy: 0.1000\n"
     ]
    },
    {
     "data": {
      "text/plain": [
       "<tensorflow.python.keras.callbacks.History at 0xc88f055748>"
      ]
     },
     "execution_count": 58,
     "metadata": {},
     "output_type": "execute_result"
    }
   ],
   "source": [
    "model0.fit(X_train, y_train1, validation_data=(X_val, y_val), epochs=10, verbose=1 )"
   ]
  },
  {
   "cell_type": "code",
   "execution_count": 59,
   "metadata": {},
   "outputs": [],
   "source": [
    "# Initialize Sequential model\n",
    "model = tf.keras.models.Sequential()\n",
    "\n",
    "# Reshape data from 2D to 1D -> 32x32 to 1024\n",
    "model.add(tf.keras.layers.Reshape((1024,),input_shape=(32,32,)))"
   ]
  },
  {
   "cell_type": "code",
   "execution_count": 60,
   "metadata": {},
   "outputs": [],
   "source": [
    "#Input Layer\n",
    "model.add(tf.keras.layers.Dense(512, activation='relu', name='Input'))\n",
    "\n",
    "# Hidden layers\n",
    "model.add(tf.keras.layers.Dense(256, activation='relu', name='Layer_1'))\n",
    "model.add(tf.keras.layers.Dense(128, activation='relu', name='Layer_2'))\n",
    "\n",
    "\n",
    "# Hidden layers\n",
    "model.add(tf.keras.layers.Dense(64, activation='relu', name='Layer_3'))\n",
    "model.add(tf.keras.layers.Dense(32, activation='relu', name='Layer_4'))\n",
    "\n",
    "\n",
    "#Output layer\n",
    "model.add(tf.keras.layers.Dense(10, activation='softmax', name='Output'))"
   ]
  },
  {
   "cell_type": "code",
   "execution_count": 61,
   "metadata": {},
   "outputs": [],
   "source": [
    "model.compile(optimizer=sgd_optimiser1, loss='categorical_crossentropy', metrics=['accuracy']) # sgd Lr=0.01"
   ]
  },
  {
   "cell_type": "code",
   "execution_count": 62,
   "metadata": {},
   "outputs": [
    {
     "name": "stdout",
     "output_type": "stream",
     "text": [
      "Train on 42000 samples, validate on 60000 samples\n",
      "Epoch 1/10\n",
      "42000/42000 [==============================] - 12s 292us/sample - loss: nan - accuracy: 0.0996 - val_loss: nan - val_accuracy: 0.1000\n",
      "Epoch 2/10\n",
      "42000/42000 [==============================] - 12s 278us/sample - loss: nan - accuracy: 0.0997 - val_loss: nan - val_accuracy: 0.1000\n",
      "Epoch 3/10\n",
      "42000/42000 [==============================] - 12s 290us/sample - loss: nan - accuracy: 0.0997 - val_loss: nan - val_accuracy: 0.1000\n",
      "Epoch 4/10\n",
      "42000/42000 [==============================] - 12s 277us/sample - loss: nan - accuracy: 0.0997 - val_loss: nan - val_accuracy: 0.1000\n",
      "Epoch 5/10\n",
      "42000/42000 [==============================] - 12s 279us/sample - loss: nan - accuracy: 0.0997 - val_loss: nan - val_accuracy: 0.1000\n",
      "Epoch 6/10\n",
      "42000/42000 [==============================] - 12s 282us/sample - loss: nan - accuracy: 0.0997 - val_loss: nan - val_accuracy: 0.1000\n",
      "Epoch 7/10\n",
      "42000/42000 [==============================] - 12s 282us/sample - loss: nan - accuracy: 0.0997 - val_loss: nan - val_accuracy: 0.1000\n",
      "Epoch 8/10\n",
      "42000/42000 [==============================] - 12s 280us/sample - loss: nan - accuracy: 0.0997 - val_loss: nan - val_accuracy: 0.1000\n",
      "Epoch 9/10\n",
      "42000/42000 [==============================] - 12s 285us/sample - loss: nan - accuracy: 0.0997 - val_loss: nan - val_accuracy: 0.1000\n",
      "Epoch 10/10\n",
      "42000/42000 [==============================] - 12s 283us/sample - loss: nan - accuracy: 0.0997 - val_loss: nan - val_accuracy: 0.1000\n"
     ]
    },
    {
     "data": {
      "text/plain": [
       "<tensorflow.python.keras.callbacks.History at 0xc884840188>"
      ]
     },
     "execution_count": 62,
     "metadata": {},
     "output_type": "execute_result"
    }
   ],
   "source": [
    "model.fit(X_train, y_train1, validation_data=(X_val, y_val), epochs=10, verbose=1 )"
   ]
  },
  {
   "cell_type": "markdown",
   "metadata": {},
   "source": [
    "#### Optimizer: 'adam'\n",
    "#### Activation: 'relu'\n",
    "#### Learning Rate: 0.0001"
   ]
  },
  {
   "cell_type": "code",
   "execution_count": 63,
   "metadata": {},
   "outputs": [],
   "source": [
    "# Initialize Sequential model\n",
    "modela = tf.keras.models.Sequential()\n",
    "\n",
    "# Reshape data from 2D to 1D -> 32x32 to 1024\n",
    "modela.add(tf.keras.layers.Reshape((1024,),input_shape=(32,32,)))"
   ]
  },
  {
   "cell_type": "code",
   "execution_count": 64,
   "metadata": {},
   "outputs": [],
   "source": [
    "#Input Layer\n",
    "modela.add(tf.keras.layers.Dense(512, activation='relu', name='Input'))\n",
    "\n",
    "# Hidden layers\n",
    "modela.add(tf.keras.layers.Dense(256, activation='relu', name='Layer_1'))\n",
    "modela.add(tf.keras.layers.Dense(128, activation='relu', name='Layer_2'))\n",
    "\n",
    "\n",
    "# Hidden layers\n",
    "modela.add(tf.keras.layers.Dense(64, activation='relu', name='Layer_3'))\n",
    "modela.add(tf.keras.layers.Dense(32, activation='relu', name='Layer_4'))\n",
    "\n",
    "\n",
    "#Output layer\n",
    "modela.add(tf.keras.layers.Dense(10, activation='softmax', name='Output'))"
   ]
  },
  {
   "cell_type": "code",
   "execution_count": 65,
   "metadata": {},
   "outputs": [],
   "source": [
    "modela.compile(optimizer=adam_optimiser2, loss='categorical_crossentropy', metrics=['accuracy']) # adam Lr =.0001"
   ]
  },
  {
   "cell_type": "code",
   "execution_count": 66,
   "metadata": {},
   "outputs": [
    {
     "name": "stdout",
     "output_type": "stream",
     "text": [
      "Train on 42000 samples, validate on 60000 samples\n",
      "Epoch 1/100\n",
      "42000/42000 [==============================] - 5s 109us/sample - loss: 6.6712 - accuracy: 0.1326 - val_loss: 2.8684 - val_accuracy: 0.1661\n",
      "Epoch 2/100\n",
      "42000/42000 [==============================] - 4s 88us/sample - loss: 2.5661 - accuracy: 0.2045 - val_loss: 2.3231 - val_accuracy: 0.2458\n",
      "Epoch 3/100\n",
      "42000/42000 [==============================] - 4s 88us/sample - loss: 2.2111 - accuracy: 0.2720 - val_loss: 2.0583 - val_accuracy: 0.3125\n",
      "Epoch 4/100\n",
      "42000/42000 [==============================] - 4s 88us/sample - loss: 1.9971 - accuracy: 0.3367 - val_loss: 1.8868 - val_accuracy: 0.3716\n",
      "Epoch 5/100\n",
      "42000/42000 [==============================] - 4s 89us/sample - loss: 1.8088 - accuracy: 0.3966 - val_loss: 1.7249 - val_accuracy: 0.4272\n",
      "Epoch 6/100\n",
      "42000/42000 [==============================] - 4s 89us/sample - loss: 1.6713 - accuracy: 0.4494 - val_loss: 1.5823 - val_accuracy: 0.4887\n",
      "Epoch 7/100\n",
      "42000/42000 [==============================] - 4s 89us/sample - loss: 1.5535 - accuracy: 0.4960 - val_loss: 1.5054 - val_accuracy: 0.5061\n",
      "Epoch 8/100\n",
      "42000/42000 [==============================] - 4s 89us/sample - loss: 1.4616 - accuracy: 0.5260 - val_loss: 1.4576 - val_accuracy: 0.5294\n",
      "Epoch 9/100\n",
      "42000/42000 [==============================] - 4s 89us/sample - loss: 1.3704 - accuracy: 0.5605 - val_loss: 1.3162 - val_accuracy: 0.5820\n",
      "Epoch 10/100\n",
      "42000/42000 [==============================] - 4s 96us/sample - loss: 1.2958 - accuracy: 0.5864 - val_loss: 1.2882 - val_accuracy: 0.5899\n",
      "Epoch 11/100\n",
      "42000/42000 [==============================] - 4s 99us/sample - loss: 1.2588 - accuracy: 0.6031 - val_loss: 1.2332 - val_accuracy: 0.6092\n",
      "Epoch 12/100\n",
      "42000/42000 [==============================] - 4s 92us/sample - loss: 1.1947 - accuracy: 0.6235 - val_loss: 1.1425 - val_accuracy: 0.6449\n",
      "Epoch 13/100\n",
      "42000/42000 [==============================] - 4s 88us/sample - loss: 1.1627 - accuracy: 0.6346 - val_loss: 1.1290 - val_accuracy: 0.6499\n",
      "Epoch 14/100\n",
      "42000/42000 [==============================] - 4s 89us/sample - loss: 1.1107 - accuracy: 0.6525 - val_loss: 1.1008 - val_accuracy: 0.6586\n",
      "Epoch 15/100\n",
      "42000/42000 [==============================] - 4s 91us/sample - loss: 1.0632 - accuracy: 0.6705 - val_loss: 1.0672 - val_accuracy: 0.6707\n",
      "Epoch 16/100\n",
      "42000/42000 [==============================] - 4s 89us/sample - loss: 1.0415 - accuracy: 0.6782 - val_loss: 1.0146 - val_accuracy: 0.6874\n",
      "Epoch 17/100\n",
      "42000/42000 [==============================] - 4s 89us/sample - loss: 1.0133 - accuracy: 0.6886 - val_loss: 1.0556 - val_accuracy: 0.6720\n",
      "Epoch 18/100\n",
      "42000/42000 [==============================] - 4s 89us/sample - loss: 1.0074 - accuracy: 0.6873 - val_loss: 1.0437 - val_accuracy: 0.6709\n",
      "Epoch 19/100\n",
      "42000/42000 [==============================] - 4s 89us/sample - loss: 0.9795 - accuracy: 0.6981 - val_loss: 0.9811 - val_accuracy: 0.6992\n",
      "Epoch 20/100\n",
      "42000/42000 [==============================] - 4s 89us/sample - loss: 0.9437 - accuracy: 0.7083 - val_loss: 0.9578 - val_accuracy: 0.7052\n",
      "Epoch 21/100\n",
      "42000/42000 [==============================] - 4s 89us/sample - loss: 0.9423 - accuracy: 0.7088 - val_loss: 0.9766 - val_accuracy: 0.6997\n",
      "Epoch 22/100\n",
      "42000/42000 [==============================] - 4s 90us/sample - loss: 0.9164 - accuracy: 0.7174 - val_loss: 0.9264 - val_accuracy: 0.7156\n",
      "Epoch 23/100\n",
      "42000/42000 [==============================] - 4s 97us/sample - loss: 0.8860 - accuracy: 0.7263 - val_loss: 0.9484 - val_accuracy: 0.7078\n",
      "Epoch 24/100\n",
      "42000/42000 [==============================] - 4s 89us/sample - loss: 0.8791 - accuracy: 0.7313 - val_loss: 0.9222 - val_accuracy: 0.7167\n",
      "Epoch 25/100\n",
      "42000/42000 [==============================] - 4s 89us/sample - loss: 0.8543 - accuracy: 0.7395 - val_loss: 0.9020 - val_accuracy: 0.7256\n",
      "Epoch 26/100\n",
      "42000/42000 [==============================] - 4s 90us/sample - loss: 0.8537 - accuracy: 0.7366 - val_loss: 0.8727 - val_accuracy: 0.7358\n",
      "Epoch 27/100\n",
      "42000/42000 [==============================] - 4s 90us/sample - loss: 0.8125 - accuracy: 0.7496 - val_loss: 0.8487 - val_accuracy: 0.7417\n",
      "Epoch 28/100\n",
      "42000/42000 [==============================] - 4s 91us/sample - loss: 0.8193 - accuracy: 0.7482 - val_loss: 0.8419 - val_accuracy: 0.7398\n",
      "Epoch 29/100\n",
      "42000/42000 [==============================] - 4s 91us/sample - loss: 0.8134 - accuracy: 0.7471 - val_loss: 0.8106 - val_accuracy: 0.7526\n",
      "Epoch 30/100\n",
      "42000/42000 [==============================] - 4s 91us/sample - loss: 0.8017 - accuracy: 0.7532 - val_loss: 0.8033 - val_accuracy: 0.7547\n",
      "Epoch 31/100\n",
      "42000/42000 [==============================] - 4s 90us/sample - loss: 0.7656 - accuracy: 0.7651 - val_loss: 0.8092 - val_accuracy: 0.7549\n",
      "Epoch 32/100\n",
      "42000/42000 [==============================] - 4s 96us/sample - loss: 0.7564 - accuracy: 0.7666 - val_loss: 0.7900 - val_accuracy: 0.7601\n",
      "Epoch 33/100\n",
      "42000/42000 [==============================] - 4s 89us/sample - loss: 0.7396 - accuracy: 0.7712 - val_loss: 0.8181 - val_accuracy: 0.7505\n",
      "Epoch 34/100\n",
      "42000/42000 [==============================] - 4s 89us/sample - loss: 0.7288 - accuracy: 0.7757 - val_loss: 0.7522 - val_accuracy: 0.7739\n",
      "Epoch 35/100\n",
      "42000/42000 [==============================] - 4s 94us/sample - loss: 0.7071 - accuracy: 0.7805 - val_loss: 0.7441 - val_accuracy: 0.7767\n",
      "Epoch 36/100\n",
      "42000/42000 [==============================] - 4s 89us/sample - loss: 0.7137 - accuracy: 0.7803 - val_loss: 0.7987 - val_accuracy: 0.7598\n",
      "Epoch 37/100\n",
      "42000/42000 [==============================] - 4s 88us/sample - loss: 0.7016 - accuracy: 0.7834 - val_loss: 0.7282 - val_accuracy: 0.7805\n",
      "Epoch 38/100\n",
      "42000/42000 [==============================] - 4s 88us/sample - loss: 0.6907 - accuracy: 0.7853 - val_loss: 0.7517 - val_accuracy: 0.7726\n",
      "Epoch 39/100\n",
      "42000/42000 [==============================] - 4s 88us/sample - loss: 0.6854 - accuracy: 0.7866 - val_loss: 0.7104 - val_accuracy: 0.7844\n",
      "Epoch 40/100\n",
      "42000/42000 [==============================] - 4s 88us/sample - loss: 0.6745 - accuracy: 0.7902 - val_loss: 0.7137 - val_accuracy: 0.7840\n",
      "Epoch 41/100\n",
      "42000/42000 [==============================] - 4s 88us/sample - loss: 0.6597 - accuracy: 0.7961 - val_loss: 0.6960 - val_accuracy: 0.7897\n",
      "Epoch 42/100\n",
      "42000/42000 [==============================] - 4s 100us/sample - loss: 0.6442 - accuracy: 0.8006 - val_loss: 0.6661 - val_accuracy: 0.8023\n",
      "Epoch 43/100\n",
      "42000/42000 [==============================] - 4s 106us/sample - loss: 0.6392 - accuracy: 0.8015 - val_loss: 0.6841 - val_accuracy: 0.7954\n",
      "Epoch 44/100\n",
      "42000/42000 [==============================] - 4s 103us/sample - loss: 0.6357 - accuracy: 0.8011 - val_loss: 0.7047 - val_accuracy: 0.7909\n",
      "Epoch 45/100\n",
      "42000/42000 [==============================] - 4s 97us/sample - loss: 0.6094 - accuracy: 0.8132 - val_loss: 0.6508 - val_accuracy: 0.8061\n",
      "Epoch 46/100\n",
      "42000/42000 [==============================] - 4s 97us/sample - loss: 0.6078 - accuracy: 0.8100 - val_loss: 0.6731 - val_accuracy: 0.7994\n",
      "Epoch 47/100\n",
      "42000/42000 [==============================] - 4s 93us/sample - loss: 0.6035 - accuracy: 0.8145 - val_loss: 0.6491 - val_accuracy: 0.8048\n",
      "Epoch 48/100\n",
      "42000/42000 [==============================] - 4s 92us/sample - loss: 0.5922 - accuracy: 0.8171 - val_loss: 0.6455 - val_accuracy: 0.8071\n",
      "Epoch 49/100\n",
      "42000/42000 [==============================] - 4s 91us/sample - loss: 0.5834 - accuracy: 0.8209 - val_loss: 0.6401 - val_accuracy: 0.8098\n",
      "Epoch 50/100\n",
      "42000/42000 [==============================] - 4s 91us/sample - loss: 0.5870 - accuracy: 0.8172 - val_loss: 0.6474 - val_accuracy: 0.8073\n",
      "Epoch 51/100\n",
      "42000/42000 [==============================] - 4s 91us/sample - loss: 0.5850 - accuracy: 0.8203 - val_loss: 0.6170 - val_accuracy: 0.8169\n",
      "Epoch 52/100\n",
      "42000/42000 [==============================] - 4s 92us/sample - loss: 0.5580 - accuracy: 0.8281 - val_loss: 0.6568 - val_accuracy: 0.8054\n",
      "Epoch 53/100\n",
      "42000/42000 [==============================] - 4s 91us/sample - loss: 0.5542 - accuracy: 0.8284 - val_loss: 0.6068 - val_accuracy: 0.8209\n",
      "Epoch 54/100\n",
      "42000/42000 [==============================] - 4s 91us/sample - loss: 0.5599 - accuracy: 0.8267 - val_loss: 0.6101 - val_accuracy: 0.8195\n"
     ]
    },
    {
     "name": "stdout",
     "output_type": "stream",
     "text": [
      "Epoch 55/100\n",
      "42000/42000 [==============================] - 4s 87us/sample - loss: 0.5327 - accuracy: 0.8344 - val_loss: 0.5898 - val_accuracy: 0.8264\n",
      "Epoch 56/100\n",
      "42000/42000 [==============================] - 4s 87us/sample - loss: 0.5379 - accuracy: 0.8322 - val_loss: 0.6116 - val_accuracy: 0.8178\n",
      "Epoch 57/100\n",
      "42000/42000 [==============================] - 4s 87us/sample - loss: 0.5247 - accuracy: 0.8356 - val_loss: 0.6197 - val_accuracy: 0.8182\n",
      "Epoch 58/100\n",
      "42000/42000 [==============================] - 4s 88us/sample - loss: 0.5163 - accuracy: 0.8384 - val_loss: 0.6072 - val_accuracy: 0.8195\n",
      "Epoch 59/100\n",
      "42000/42000 [==============================] - 4s 88us/sample - loss: 0.5171 - accuracy: 0.8390 - val_loss: 0.6091 - val_accuracy: 0.8184\n",
      "Epoch 60/100\n",
      "42000/42000 [==============================] - 4s 87us/sample - loss: 0.5119 - accuracy: 0.8407 - val_loss: 0.6032 - val_accuracy: 0.8222\n",
      "Epoch 61/100\n",
      "42000/42000 [==============================] - 4s 87us/sample - loss: 0.5016 - accuracy: 0.8438 - val_loss: 0.5474 - val_accuracy: 0.8410\n",
      "Epoch 62/100\n",
      "42000/42000 [==============================] - 4s 87us/sample - loss: 0.4987 - accuracy: 0.8450 - val_loss: 0.6050 - val_accuracy: 0.8217\n",
      "Epoch 63/100\n",
      "42000/42000 [==============================] - 4s 88us/sample - loss: 0.4989 - accuracy: 0.8450 - val_loss: 0.5831 - val_accuracy: 0.8276\n",
      "Epoch 64/100\n",
      "42000/42000 [==============================] - 4s 88us/sample - loss: 0.4885 - accuracy: 0.8468 - val_loss: 0.5572 - val_accuracy: 0.8379\n",
      "Epoch 65/100\n",
      "42000/42000 [==============================] - 4s 88us/sample - loss: 0.4838 - accuracy: 0.8497 - val_loss: 0.6168 - val_accuracy: 0.8153\n",
      "Epoch 66/100\n",
      "42000/42000 [==============================] - 4s 88us/sample - loss: 0.4803 - accuracy: 0.8496 - val_loss: 0.6250 - val_accuracy: 0.8183\n",
      "Epoch 67/100\n",
      "42000/42000 [==============================] - 4s 88us/sample - loss: 0.4606 - accuracy: 0.8589 - val_loss: 0.5660 - val_accuracy: 0.8342\n",
      "Epoch 68/100\n",
      "42000/42000 [==============================] - 4s 88us/sample - loss: 0.4584 - accuracy: 0.8565 - val_loss: 0.5686 - val_accuracy: 0.8336\n",
      "Epoch 69/100\n",
      "42000/42000 [==============================] - 4s 87us/sample - loss: 0.4573 - accuracy: 0.8585 - val_loss: 0.5693 - val_accuracy: 0.8336\n",
      "Epoch 70/100\n",
      "42000/42000 [==============================] - 4s 88us/sample - loss: 0.4490 - accuracy: 0.8595 - val_loss: 0.5266 - val_accuracy: 0.8496\n",
      "Epoch 71/100\n",
      "42000/42000 [==============================] - 4s 89us/sample - loss: 0.4479 - accuracy: 0.8596 - val_loss: 0.5466 - val_accuracy: 0.8406\n",
      "Epoch 72/100\n",
      "42000/42000 [==============================] - 4s 88us/sample - loss: 0.4434 - accuracy: 0.8626 - val_loss: 0.5290 - val_accuracy: 0.8461\n",
      "Epoch 73/100\n",
      "42000/42000 [==============================] - 4s 88us/sample - loss: 0.4337 - accuracy: 0.8643 - val_loss: 0.5296 - val_accuracy: 0.8468\n",
      "Epoch 74/100\n",
      "42000/42000 [==============================] - 4s 90us/sample - loss: 0.4231 - accuracy: 0.8666 - val_loss: 0.6122 - val_accuracy: 0.8247\n",
      "Epoch 75/100\n",
      "42000/42000 [==============================] - 4s 93us/sample - loss: 0.4205 - accuracy: 0.8690 - val_loss: 0.5251 - val_accuracy: 0.8488\n",
      "Epoch 76/100\n",
      "42000/42000 [==============================] - 4s 92us/sample - loss: 0.4232 - accuracy: 0.8665 - val_loss: 0.5602 - val_accuracy: 0.8360\n",
      "Epoch 77/100\n",
      "42000/42000 [==============================] - 4s 94us/sample - loss: 0.4111 - accuracy: 0.8725 - val_loss: 0.5099 - val_accuracy: 0.8526\n",
      "Epoch 78/100\n",
      "42000/42000 [==============================] - 4s 98us/sample - loss: 0.3951 - accuracy: 0.8771 - val_loss: 0.4979 - val_accuracy: 0.8586\n",
      "Epoch 79/100\n",
      "42000/42000 [==============================] - 4s 94us/sample - loss: 0.4075 - accuracy: 0.8715 - val_loss: 0.5017 - val_accuracy: 0.8576\n",
      "Epoch 80/100\n",
      "42000/42000 [==============================] - 4s 91us/sample - loss: 0.3908 - accuracy: 0.8770 - val_loss: 0.5410 - val_accuracy: 0.8456\n",
      "Epoch 81/100\n",
      "42000/42000 [==============================] - 4s 90us/sample - loss: 0.3853 - accuracy: 0.8787 - val_loss: 0.5097 - val_accuracy: 0.8546\n",
      "Epoch 82/100\n",
      "42000/42000 [==============================] - 4s 90us/sample - loss: 0.3873 - accuracy: 0.8774 - val_loss: 0.5286 - val_accuracy: 0.8502\n",
      "Epoch 83/100\n",
      "42000/42000 [==============================] - 4s 90us/sample - loss: 0.3804 - accuracy: 0.8813 - val_loss: 0.5470 - val_accuracy: 0.8422\n",
      "Epoch 84/100\n",
      "42000/42000 [==============================] - 4s 90us/sample - loss: 0.3835 - accuracy: 0.8798 - val_loss: 0.4931 - val_accuracy: 0.8606\n",
      "Epoch 85/100\n",
      "42000/42000 [==============================] - 4s 91us/sample - loss: 0.3735 - accuracy: 0.8815 - val_loss: 0.4737 - val_accuracy: 0.8668\n",
      "Epoch 86/100\n",
      "42000/42000 [==============================] - 4s 90us/sample - loss: 0.3641 - accuracy: 0.8841 - val_loss: 0.5522 - val_accuracy: 0.8435\n",
      "Epoch 87/100\n",
      "42000/42000 [==============================] - 4s 91us/sample - loss: 0.3695 - accuracy: 0.8839 - val_loss: 0.5187 - val_accuracy: 0.8551\n",
      "Epoch 88/100\n",
      "42000/42000 [==============================] - 4s 91us/sample - loss: 0.3643 - accuracy: 0.8852 - val_loss: 0.4820 - val_accuracy: 0.8640\n",
      "Epoch 89/100\n",
      "42000/42000 [==============================] - 4s 91us/sample - loss: 0.3562 - accuracy: 0.8876 - val_loss: 0.5011 - val_accuracy: 0.8600\n",
      "Epoch 90/100\n",
      "42000/42000 [==============================] - 4s 91us/sample - loss: 0.3603 - accuracy: 0.8871 - val_loss: 0.5388 - val_accuracy: 0.8458\n",
      "Epoch 91/100\n",
      "42000/42000 [==============================] - 4s 91us/sample - loss: 0.3560 - accuracy: 0.8887 - val_loss: 0.5233 - val_accuracy: 0.8518\n",
      "Epoch 92/100\n",
      "42000/42000 [==============================] - 4s 90us/sample - loss: 0.3389 - accuracy: 0.8942 - val_loss: 0.4594 - val_accuracy: 0.8735\n",
      "Epoch 93/100\n",
      "42000/42000 [==============================] - 4s 91us/sample - loss: 0.3479 - accuracy: 0.8887 - val_loss: 0.4755 - val_accuracy: 0.8701\n",
      "Epoch 94/100\n",
      "42000/42000 [==============================] - 4s 92us/sample - loss: 0.3362 - accuracy: 0.8937 - val_loss: 0.4810 - val_accuracy: 0.8652\n",
      "Epoch 95/100\n",
      "42000/42000 [==============================] - 4s 92us/sample - loss: 0.3394 - accuracy: 0.8928 - val_loss: 0.4948 - val_accuracy: 0.8627\n",
      "Epoch 96/100\n",
      "42000/42000 [==============================] - 4s 90us/sample - loss: 0.3370 - accuracy: 0.8926 - val_loss: 0.4963 - val_accuracy: 0.8591\n",
      "Epoch 97/100\n",
      "42000/42000 [==============================] - 4s 92us/sample - loss: 0.3194 - accuracy: 0.8990 - val_loss: 0.4604 - val_accuracy: 0.8740\n",
      "Epoch 98/100\n",
      "42000/42000 [==============================] - 4s 90us/sample - loss: 0.3225 - accuracy: 0.8980 - val_loss: 0.4859 - val_accuracy: 0.8689\n",
      "Epoch 99/100\n",
      "42000/42000 [==============================] - 4s 91us/sample - loss: 0.3159 - accuracy: 0.8998 - val_loss: 0.4617 - val_accuracy: 0.8758\n",
      "Epoch 100/100\n",
      "42000/42000 [==============================] - 4s 91us/sample - loss: 0.3060 - accuracy: 0.9037 - val_loss: 0.4476 - val_accuracy: 0.8788\n"
     ]
    },
    {
     "data": {
      "text/plain": [
       "<tensorflow.python.keras.callbacks.History at 0xc886481348>"
      ]
     },
     "execution_count": 66,
     "metadata": {},
     "output_type": "execute_result"
    }
   ],
   "source": [
    "modela.fit(X_train, y_train1, validation_data=(X_val,y_val),batch_size=300, epochs=100, verbose=1)"
   ]
  },
  {
   "cell_type": "code",
   "execution_count": 68,
   "metadata": {},
   "outputs": [
    {
     "name": "stdout",
     "output_type": "stream",
     "text": [
      "Accuracy of NN with adam optimiser & RELu on Validation data is  [0.44758566667387883, 0.87885]\n"
     ]
    }
   ],
   "source": [
    "accuracy = modela.evaluate(X_val, y_val, verbose=0)\n",
    "print(\"Accuracy of NN with adam optimiser & RELu on Validation data is \", accuracy)"
   ]
  },
  {
   "cell_type": "code",
   "execution_count": 69,
   "metadata": {},
   "outputs": [
    {
     "data": {
      "text/html": [
       "<div>\n",
       "<style scoped>\n",
       "    .dataframe tbody tr th:only-of-type {\n",
       "        vertical-align: middle;\n",
       "    }\n",
       "\n",
       "    .dataframe tbody tr th {\n",
       "        vertical-align: top;\n",
       "    }\n",
       "\n",
       "    .dataframe thead th {\n",
       "        text-align: right;\n",
       "    }\n",
       "</style>\n",
       "<table border=\"1\" class=\"dataframe\">\n",
       "  <thead>\n",
       "    <tr style=\"text-align: right;\">\n",
       "      <th></th>\n",
       "      <th>Method</th>\n",
       "      <th>Accuracy</th>\n",
       "    </tr>\n",
       "  </thead>\n",
       "  <tbody>\n",
       "    <tr>\n",
       "      <th>1</th>\n",
       "      <td>NN with Adam &amp; RELU</td>\n",
       "      <td>0.87885</td>\n",
       "    </tr>\n",
       "  </tbody>\n",
       "</table>\n",
       "</div>"
      ],
      "text/plain": [
       "                Method  Accuracy\n",
       "1  NN with Adam & RELU   0.87885"
      ]
     },
     "execution_count": 69,
     "metadata": {},
     "output_type": "execute_result"
    }
   ],
   "source": [
    "# All Accuracy of model need to compile for further analysis and conclusion\n",
    "accuracy_of_val = pd.DataFrame({'Method':['NN with Adam & RELU'], 'Accuracy': accuracy[1]},index={'1'})\n",
    "accuracy_of_val = accuracy_of_val[['Method', 'Accuracy']]\n",
    "accuracy_of_val"
   ]
  },
  {
   "cell_type": "markdown",
   "metadata": {},
   "source": [
    "Step 2\n",
    "#### Optimizer: \"sgd\"  with Learning Rate: 0.001\n",
    "#### Activation Function: \"relu\""
   ]
  },
  {
   "cell_type": "code",
   "execution_count": 70,
   "metadata": {},
   "outputs": [],
   "source": [
    "# Initialize Sequential model\n",
    "model1 = tf.keras.models.Sequential()\n",
    "\n",
    "# Reshape data from 2D to 1D -> 32x32 to 1024\n",
    "model1.add(tf.keras.layers.Reshape((1024,),input_shape=(32,32,)))"
   ]
  },
  {
   "cell_type": "code",
   "execution_count": 71,
   "metadata": {},
   "outputs": [],
   "source": [
    "#Input Layer\n",
    "model1.add(tf.keras.layers.Dense(512, activation='relu', name='Input'))\n",
    "\n",
    "# Hidden layers\n",
    "model1.add(tf.keras.layers.Dense(256, activation='relu', name='Layer_1'))\n",
    "model1.add(tf.keras.layers.Dense(128, activation='relu', name='Layer_2'))\n",
    "\n",
    "\n",
    "# Hidden layers\n",
    "model1.add(tf.keras.layers.Dense(64, activation='relu', name='Layer_3'))\n",
    "model1.add(tf.keras.layers.Dense(32, activation='relu', name='Layer_4'))\n",
    "\n",
    "\n",
    "#Output layer\n",
    "model1.add(tf.keras.layers.Dense(10, activation='softmax', name='Output'))"
   ]
  },
  {
   "cell_type": "code",
   "execution_count": 72,
   "metadata": {},
   "outputs": [
    {
     "name": "stdout",
     "output_type": "stream",
     "text": [
      "Model: \"sequential_3\"\n",
      "_________________________________________________________________\n",
      "Layer (type)                 Output Shape              Param #   \n",
      "=================================================================\n",
      "reshape_3 (Reshape)          (None, 1024)              0         \n",
      "_________________________________________________________________\n",
      "Input (Dense)                (None, 512)               524800    \n",
      "_________________________________________________________________\n",
      "Layer_1 (Dense)              (None, 256)               131328    \n",
      "_________________________________________________________________\n",
      "Layer_2 (Dense)              (None, 128)               32896     \n",
      "_________________________________________________________________\n",
      "Layer_3 (Dense)              (None, 64)                8256      \n",
      "_________________________________________________________________\n",
      "Layer_4 (Dense)              (None, 32)                2080      \n",
      "_________________________________________________________________\n",
      "Output (Dense)               (None, 10)                330       \n",
      "=================================================================\n",
      "Total params: 699,690\n",
      "Trainable params: 699,690\n",
      "Non-trainable params: 0\n",
      "_________________________________________________________________\n"
     ]
    }
   ],
   "source": [
    "model1.summary()"
   ]
  },
  {
   "cell_type": "code",
   "execution_count": 73,
   "metadata": {},
   "outputs": [],
   "source": [
    "#Compile the model\n",
    "model1.compile(optimizer=sgd_optimiser2, loss='categorical_crossentropy', metrics=['accuracy'])"
   ]
  },
  {
   "cell_type": "code",
   "execution_count": 74,
   "metadata": {},
   "outputs": [
    {
     "name": "stdout",
     "output_type": "stream",
     "text": [
      "Train on 42000 samples, validate on 60000 samples\n",
      "Epoch 1/100\n",
      "42000/42000 [==============================] - 4s 97us/sample - loss: 4.6444 - accuracy: 0.1004 - val_loss: 2.3660 - val_accuracy: 0.1003\n",
      "Epoch 2/100\n",
      "42000/42000 [==============================] - 4s 84us/sample - loss: 2.3397 - accuracy: 0.1014 - val_loss: 2.3263 - val_accuracy: 0.1035\n",
      "Epoch 3/100\n",
      "42000/42000 [==============================] - 4s 85us/sample - loss: 2.3197 - accuracy: 0.1053 - val_loss: 2.3161 - val_accuracy: 0.1030\n",
      "Epoch 4/100\n",
      "42000/42000 [==============================] - 4s 88us/sample - loss: 2.3123 - accuracy: 0.1050 - val_loss: 2.3108 - val_accuracy: 0.1031\n",
      "Epoch 5/100\n",
      "42000/42000 [==============================] - 4s 85us/sample - loss: 2.3083 - accuracy: 0.1049 - val_loss: 2.3078 - val_accuracy: 0.1030\n",
      "Epoch 6/100\n",
      "42000/42000 [==============================] - 4s 85us/sample - loss: 2.3056 - accuracy: 0.1050 - val_loss: 2.3057 - val_accuracy: 0.1033\n",
      "Epoch 7/100\n",
      "42000/42000 [==============================] - 4s 88us/sample - loss: 2.3037 - accuracy: 0.1055 - val_loss: 2.3037 - val_accuracy: 0.1035\n",
      "Epoch 8/100\n",
      "42000/42000 [==============================] - 4s 86us/sample - loss: 2.3019 - accuracy: 0.1060 - val_loss: 2.3019 - val_accuracy: 0.1041\n",
      "Epoch 9/100\n",
      "42000/42000 [==============================] - 4s 92us/sample - loss: 2.3000 - accuracy: 0.1068 - val_loss: 2.3000 - val_accuracy: 0.1045\n",
      "Epoch 10/100\n",
      "42000/42000 [==============================] - 4s 87us/sample - loss: 2.2980 - accuracy: 0.1067 - val_loss: 2.2979 - val_accuracy: 0.1053\n",
      "Epoch 11/100\n",
      "42000/42000 [==============================] - 4s 86us/sample - loss: 2.2958 - accuracy: 0.1079 - val_loss: 2.2954 - val_accuracy: 0.1063\n",
      "Epoch 12/100\n",
      "42000/42000 [==============================] - 4s 85us/sample - loss: 2.2934 - accuracy: 0.1090 - val_loss: 2.2929 - val_accuracy: 0.1071\n",
      "Epoch 13/100\n",
      "42000/42000 [==============================] - 4s 86us/sample - loss: 2.2907 - accuracy: 0.1095 - val_loss: 2.2901 - val_accuracy: 0.1080\n",
      "Epoch 14/100\n",
      "42000/42000 [==============================] - 4s 86us/sample - loss: 2.2878 - accuracy: 0.1109 - val_loss: 2.2872 - val_accuracy: 0.1088\n",
      "Epoch 15/100\n",
      "42000/42000 [==============================] - 4s 86us/sample - loss: 2.2848 - accuracy: 0.1111 - val_loss: 2.2840 - val_accuracy: 0.1102\n",
      "Epoch 16/100\n",
      "42000/42000 [==============================] - 4s 87us/sample - loss: 2.2815 - accuracy: 0.1124 - val_loss: 2.2809 - val_accuracy: 0.1114\n",
      "Epoch 17/100\n",
      "42000/42000 [==============================] - 4s 86us/sample - loss: 2.2783 - accuracy: 0.1138 - val_loss: 2.2776 - val_accuracy: 0.1121\n",
      "Epoch 18/100\n",
      "42000/42000 [==============================] - 4s 86us/sample - loss: 2.2750 - accuracy: 0.1149 - val_loss: 2.2743 - val_accuracy: 0.1135\n",
      "Epoch 19/100\n",
      "42000/42000 [==============================] - 4s 87us/sample - loss: 2.2720 - accuracy: 0.1162 - val_loss: 2.2711 - val_accuracy: 0.1146\n",
      "Epoch 20/100\n",
      "42000/42000 [==============================] - 4s 86us/sample - loss: 2.2687 - accuracy: 0.1182 - val_loss: 2.2680 - val_accuracy: 0.1160\n",
      "Epoch 21/100\n",
      "42000/42000 [==============================] - 4s 86us/sample - loss: 2.2653 - accuracy: 0.1184 - val_loss: 2.2647 - val_accuracy: 0.1181\n",
      "Epoch 22/100\n",
      "42000/42000 [==============================] - 4s 86us/sample - loss: 2.2620 - accuracy: 0.1208 - val_loss: 2.2608 - val_accuracy: 0.1189\n",
      "Epoch 23/100\n",
      "42000/42000 [==============================] - 4s 93us/sample - loss: 2.2577 - accuracy: 0.1221 - val_loss: 2.2563 - val_accuracy: 0.1211\n",
      "Epoch 24/100\n",
      "42000/42000 [==============================] - 4s 92us/sample - loss: 2.2533 - accuracy: 0.1237 - val_loss: 2.2520 - val_accuracy: 0.1227\n",
      "Epoch 25/100\n",
      "42000/42000 [==============================] - 4s 86us/sample - loss: 2.2486 - accuracy: 0.1263 - val_loss: 2.2466 - val_accuracy: 0.1259\n",
      "Epoch 26/100\n",
      "42000/42000 [==============================] - 4s 87us/sample - loss: 2.2439 - accuracy: 0.1280 - val_loss: 2.2421 - val_accuracy: 0.1276\n",
      "Epoch 27/100\n",
      "42000/42000 [==============================] - 4s 87us/sample - loss: 2.2395 - accuracy: 0.1298 - val_loss: 2.2374 - val_accuracy: 0.1297\n",
      "Epoch 28/100\n",
      "42000/42000 [==============================] - 4s 87us/sample - loss: 2.2352 - accuracy: 0.1321 - val_loss: 2.2333 - val_accuracy: 0.1318\n",
      "Epoch 29/100\n",
      "42000/42000 [==============================] - 4s 87us/sample - loss: 2.2309 - accuracy: 0.1335 - val_loss: 2.2295 - val_accuracy: 0.1339\n",
      "Epoch 30/100\n",
      "42000/42000 [==============================] - 4s 87us/sample - loss: 2.2269 - accuracy: 0.1360 - val_loss: 2.2256 - val_accuracy: 0.1355\n",
      "Epoch 31/100\n",
      "42000/42000 [==============================] - 4s 97us/sample - loss: 2.2230 - accuracy: 0.1380 - val_loss: 2.2216 - val_accuracy: 0.1379\n",
      "Epoch 32/100\n",
      "42000/42000 [==============================] - 4s 86us/sample - loss: 2.2195 - accuracy: 0.1397 - val_loss: 2.2181 - val_accuracy: 0.1393\n",
      "Epoch 33/100\n",
      "42000/42000 [==============================] - 4s 87us/sample - loss: 2.2160 - accuracy: 0.1413 - val_loss: 2.2152 - val_accuracy: 0.1416\n",
      "Epoch 34/100\n",
      "42000/42000 [==============================] - 4s 87us/sample - loss: 2.2125 - accuracy: 0.1427 - val_loss: 2.2113 - val_accuracy: 0.1427\n",
      "Epoch 35/100\n",
      "42000/42000 [==============================] - 4s 91us/sample - loss: 2.2091 - accuracy: 0.1443 - val_loss: 2.2081 - val_accuracy: 0.1439\n",
      "Epoch 36/100\n",
      "42000/42000 [==============================] - 4s 95us/sample - loss: 2.2059 - accuracy: 0.1463 - val_loss: 2.2049 - val_accuracy: 0.1451\n",
      "Epoch 37/100\n",
      "42000/42000 [==============================] - 4s 85us/sample - loss: 2.2030 - accuracy: 0.1511 - val_loss: 2.2036 - val_accuracy: 0.1539\n",
      "Epoch 38/100\n",
      "42000/42000 [==============================] - 4s 86us/sample - loss: 2.2000 - accuracy: 0.1558 - val_loss: 2.1992 - val_accuracy: 0.1563\n",
      "Epoch 39/100\n",
      "42000/42000 [==============================] - 4s 85us/sample - loss: 2.1972 - accuracy: 0.1571 - val_loss: 2.1968 - val_accuracy: 0.1570\n",
      "Epoch 40/100\n",
      "42000/42000 [==============================] - 4s 92us/sample - loss: 2.1945 - accuracy: 0.1583 - val_loss: 2.1935 - val_accuracy: 0.1588\n",
      "Epoch 41/100\n",
      "42000/42000 [==============================] - 4s 98us/sample - loss: 2.1917 - accuracy: 0.1603 - val_loss: 2.1908 - val_accuracy: 0.1602\n",
      "Epoch 42/100\n",
      "42000/42000 [==============================] - 4s 97us/sample - loss: 2.1892 - accuracy: 0.1612 - val_loss: 2.1884 - val_accuracy: 0.1616\n",
      "Epoch 43/100\n",
      "42000/42000 [==============================] - 4s 89us/sample - loss: 2.1865 - accuracy: 0.1625 - val_loss: 2.1869 - val_accuracy: 0.1630\n",
      "Epoch 44/100\n",
      "42000/42000 [==============================] - 4s 87us/sample - loss: 2.1841 - accuracy: 0.1637 - val_loss: 2.1832 - val_accuracy: 0.1643\n",
      "Epoch 45/100\n",
      "42000/42000 [==============================] - 4s 87us/sample - loss: 2.1814 - accuracy: 0.1651 - val_loss: 2.1806 - val_accuracy: 0.1657\n",
      "Epoch 46/100\n",
      "42000/42000 [==============================] - 4s 87us/sample - loss: 2.1788 - accuracy: 0.1664 - val_loss: 2.1783 - val_accuracy: 0.1659\n",
      "Epoch 47/100\n",
      "42000/42000 [==============================] - 4s 87us/sample - loss: 2.1764 - accuracy: 0.1667 - val_loss: 2.1762 - val_accuracy: 0.1669\n",
      "Epoch 48/100\n",
      "42000/42000 [==============================] - 4s 87us/sample - loss: 2.1742 - accuracy: 0.1680 - val_loss: 2.1739 - val_accuracy: 0.1675\n",
      "Epoch 49/100\n",
      "42000/42000 [==============================] - 4s 91us/sample - loss: 2.1719 - accuracy: 0.1690 - val_loss: 2.1717 - val_accuracy: 0.1686\n",
      "Epoch 50/100\n",
      "42000/42000 [==============================] - 4s 86us/sample - loss: 2.1697 - accuracy: 0.1698 - val_loss: 2.1694 - val_accuracy: 0.1699\n",
      "Epoch 51/100\n",
      "42000/42000 [==============================] - 4s 89us/sample - loss: 2.1674 - accuracy: 0.1707 - val_loss: 2.1713 - val_accuracy: 0.1698\n",
      "Epoch 52/100\n",
      "42000/42000 [==============================] - 4s 88us/sample - loss: 2.1655 - accuracy: 0.1707 - val_loss: 2.1654 - val_accuracy: 0.1711\n",
      "Epoch 53/100\n",
      "42000/42000 [==============================] - 4s 87us/sample - loss: 2.1631 - accuracy: 0.1717 - val_loss: 2.1639 - val_accuracy: 0.1721\n",
      "Epoch 54/100\n",
      "42000/42000 [==============================] - 4s 87us/sample - loss: 2.1613 - accuracy: 0.1727 - val_loss: 2.1608 - val_accuracy: 0.1732\n"
     ]
    },
    {
     "name": "stdout",
     "output_type": "stream",
     "text": [
      "Epoch 55/100\n",
      "42000/42000 [==============================] - 4s 84us/sample - loss: 2.1590 - accuracy: 0.1739 - val_loss: 2.1600 - val_accuracy: 0.1729\n",
      "Epoch 56/100\n",
      "42000/42000 [==============================] - 4s 84us/sample - loss: 2.1570 - accuracy: 0.1750 - val_loss: 2.1577 - val_accuracy: 0.1743\n",
      "Epoch 57/100\n",
      "42000/42000 [==============================] - 4s 84us/sample - loss: 2.1549 - accuracy: 0.1759 - val_loss: 2.1550 - val_accuracy: 0.1745\n",
      "Epoch 58/100\n",
      "42000/42000 [==============================] - 4s 85us/sample - loss: 2.1525 - accuracy: 0.1758 - val_loss: 2.1541 - val_accuracy: 0.1763\n",
      "Epoch 59/100\n",
      "42000/42000 [==============================] - 4s 83us/sample - loss: 2.1508 - accuracy: 0.1764 - val_loss: 2.1510 - val_accuracy: 0.1765\n",
      "Epoch 60/100\n",
      "42000/42000 [==============================] - 4s 86us/sample - loss: 2.1487 - accuracy: 0.1776 - val_loss: 2.1492 - val_accuracy: 0.1769\n",
      "Epoch 61/100\n",
      "42000/42000 [==============================] - 4s 89us/sample - loss: 2.1467 - accuracy: 0.1775 - val_loss: 2.1471 - val_accuracy: 0.1773\n",
      "Epoch 62/100\n",
      "42000/42000 [==============================] - 4s 85us/sample - loss: 2.1448 - accuracy: 0.1778 - val_loss: 2.1460 - val_accuracy: 0.1781\n",
      "Epoch 63/100\n",
      "42000/42000 [==============================] - 4s 85us/sample - loss: 2.1430 - accuracy: 0.1793 - val_loss: 2.1432 - val_accuracy: 0.1787\n",
      "Epoch 64/100\n",
      "42000/42000 [==============================] - 4s 86us/sample - loss: 2.1411 - accuracy: 0.1803 - val_loss: 2.1414 - val_accuracy: 0.1800\n",
      "Epoch 65/100\n",
      "42000/42000 [==============================] - 4s 86us/sample - loss: 2.1391 - accuracy: 0.1812 - val_loss: 2.1404 - val_accuracy: 0.1803\n",
      "Epoch 66/100\n",
      "42000/42000 [==============================] - 4s 90us/sample - loss: 2.1367 - accuracy: 0.1821 - val_loss: 2.1376 - val_accuracy: 0.1828\n",
      "Epoch 67/100\n",
      "42000/42000 [==============================] - 4s 87us/sample - loss: 2.1349 - accuracy: 0.1839 - val_loss: 2.1357 - val_accuracy: 0.1851\n",
      "Epoch 68/100\n",
      "42000/42000 [==============================] - 4s 86us/sample - loss: 2.1328 - accuracy: 0.1864 - val_loss: 2.1334 - val_accuracy: 0.1871\n",
      "Epoch 69/100\n",
      "42000/42000 [==============================] - 4s 88us/sample - loss: 2.1307 - accuracy: 0.1876 - val_loss: 2.1312 - val_accuracy: 0.1890\n",
      "Epoch 70/100\n",
      "42000/42000 [==============================] - 4s 86us/sample - loss: 2.1283 - accuracy: 0.1903 - val_loss: 2.1290 - val_accuracy: 0.1890\n",
      "Epoch 71/100\n",
      "42000/42000 [==============================] - 4s 86us/sample - loss: 2.1257 - accuracy: 0.1922 - val_loss: 2.1279 - val_accuracy: 0.1911\n",
      "Epoch 72/100\n",
      "42000/42000 [==============================] - 4s 87us/sample - loss: 2.1231 - accuracy: 0.1937 - val_loss: 2.1243 - val_accuracy: 0.1929\n",
      "Epoch 73/100\n",
      "42000/42000 [==============================] - 4s 87us/sample - loss: 2.1203 - accuracy: 0.1952 - val_loss: 2.1214 - val_accuracy: 0.1959\n",
      "Epoch 74/100\n",
      "42000/42000 [==============================] - 4s 87us/sample - loss: 2.1173 - accuracy: 0.1987 - val_loss: 2.1190 - val_accuracy: 0.1976\n",
      "Epoch 75/100\n",
      "42000/42000 [==============================] - 4s 86us/sample - loss: 2.1138 - accuracy: 0.2019 - val_loss: 2.1147 - val_accuracy: 0.2011\n",
      "Epoch 76/100\n",
      "42000/42000 [==============================] - 4s 88us/sample - loss: 2.1100 - accuracy: 0.2026 - val_loss: 2.1113 - val_accuracy: 0.2054\n",
      "Epoch 77/100\n",
      "42000/42000 [==============================] - 4s 88us/sample - loss: 2.1057 - accuracy: 0.2057 - val_loss: 2.1072 - val_accuracy: 0.2064\n",
      "Epoch 78/100\n",
      "42000/42000 [==============================] - 4s 87us/sample - loss: 2.1010 - accuracy: 0.2089 - val_loss: 2.1027 - val_accuracy: 0.2077\n",
      "Epoch 79/100\n",
      "42000/42000 [==============================] - 4s 86us/sample - loss: 2.0961 - accuracy: 0.2122 - val_loss: 2.0977 - val_accuracy: 0.2111\n",
      "Epoch 80/100\n",
      "42000/42000 [==============================] - 4s 87us/sample - loss: 2.0908 - accuracy: 0.2162 - val_loss: 2.0931 - val_accuracy: 0.2190\n",
      "Epoch 81/100\n",
      "42000/42000 [==============================] - 4s 86us/sample - loss: 2.0847 - accuracy: 0.2190 - val_loss: 2.0870 - val_accuracy: 0.2210\n",
      "Epoch 82/100\n",
      "42000/42000 [==============================] - 4s 85us/sample - loss: 2.0795 - accuracy: 0.2206 - val_loss: 2.0823 - val_accuracy: 0.2230\n",
      "Epoch 83/100\n",
      "42000/42000 [==============================] - 4s 89us/sample - loss: 2.0744 - accuracy: 0.2221 - val_loss: 2.0761 - val_accuracy: 0.2250\n",
      "Epoch 84/100\n",
      "42000/42000 [==============================] - 4s 87us/sample - loss: 2.0696 - accuracy: 0.2237 - val_loss: 2.0713 - val_accuracy: 0.2264\n",
      "Epoch 85/100\n",
      "42000/42000 [==============================] - 4s 88us/sample - loss: 2.0644 - accuracy: 0.2257 - val_loss: 2.0708 - val_accuracy: 0.2306\n",
      "Epoch 86/100\n",
      "42000/42000 [==============================] - 4s 86us/sample - loss: 2.0594 - accuracy: 0.2272 - val_loss: 2.0610 - val_accuracy: 0.2295\n",
      "Epoch 87/100\n",
      "42000/42000 [==============================] - 4s 88us/sample - loss: 2.0547 - accuracy: 0.2284 - val_loss: 2.0585 - val_accuracy: 0.2323\n",
      "Epoch 88/100\n",
      "42000/42000 [==============================] - 4s 87us/sample - loss: 2.0509 - accuracy: 0.2305 - val_loss: 2.0528 - val_accuracy: 0.2315\n",
      "Epoch 89/100\n",
      "42000/42000 [==============================] - 4s 86us/sample - loss: 2.0468 - accuracy: 0.2316 - val_loss: 2.0489 - val_accuracy: 0.2337\n",
      "Epoch 90/100\n",
      "42000/42000 [==============================] - 4s 86us/sample - loss: 2.0428 - accuracy: 0.2327 - val_loss: 2.0444 - val_accuracy: 0.2355\n",
      "Epoch 91/100\n",
      "42000/42000 [==============================] - 4s 87us/sample - loss: 2.0389 - accuracy: 0.2343 - val_loss: 2.0408 - val_accuracy: 0.2351\n",
      "Epoch 92/100\n",
      "42000/42000 [==============================] - 4s 86us/sample - loss: 2.0352 - accuracy: 0.2340 - val_loss: 2.0373 - val_accuracy: 0.2353\n",
      "Epoch 93/100\n",
      "42000/42000 [==============================] - 4s 87us/sample - loss: 2.0316 - accuracy: 0.2355 - val_loss: 2.0342 - val_accuracy: 0.2359\n",
      "Epoch 94/100\n",
      "42000/42000 [==============================] - 4s 87us/sample - loss: 2.0279 - accuracy: 0.2375 - val_loss: 2.0294 - val_accuracy: 0.2399\n",
      "Epoch 95/100\n",
      "42000/42000 [==============================] - 4s 86us/sample - loss: 2.0246 - accuracy: 0.2380 - val_loss: 2.0283 - val_accuracy: 0.2369\n",
      "Epoch 96/100\n",
      "42000/42000 [==============================] - 4s 87us/sample - loss: 2.0209 - accuracy: 0.2396 - val_loss: 2.0229 - val_accuracy: 0.2403\n",
      "Epoch 97/100\n",
      "42000/42000 [==============================] - 4s 87us/sample - loss: 2.0175 - accuracy: 0.2408 - val_loss: 2.0242 - val_accuracy: 0.2423\n",
      "Epoch 98/100\n",
      "42000/42000 [==============================] - 4s 87us/sample - loss: 2.0148 - accuracy: 0.2405 - val_loss: 2.0167 - val_accuracy: 0.2425\n",
      "Epoch 99/100\n",
      "42000/42000 [==============================] - 4s 87us/sample - loss: 2.0117 - accuracy: 0.2434 - val_loss: 2.0141 - val_accuracy: 0.2436\n",
      "Epoch 100/100\n",
      "42000/42000 [==============================] - 4s 90us/sample - loss: 2.0084 - accuracy: 0.2447 - val_loss: 2.0157 - val_accuracy: 0.2498\n"
     ]
    },
    {
     "data": {
      "text/plain": [
       "<tensorflow.python.keras.callbacks.History at 0xc884e4cbc8>"
      ]
     },
     "execution_count": 74,
     "metadata": {},
     "output_type": "execute_result"
    }
   ],
   "source": [
    "model1.fit(X_train, y_train1, validation_data=(X_val, y_val),batch_size=300 ,epochs=100, verbose=1 )"
   ]
  },
  {
   "cell_type": "code",
   "execution_count": 75,
   "metadata": {},
   "outputs": [
    {
     "name": "stdout",
     "output_type": "stream",
     "text": [
      "Accuracy of NN with SGD Optimiser & RELU on Validation data is  [2.0157232941309613, 0.24983333]\n"
     ]
    }
   ],
   "source": [
    "accuracy1 = model1.evaluate(X_val, y_val, verbose=0)\n",
    "print(\"Accuracy of NN with SGD Optimiser & RELU on Validation data is \", accuracy1)"
   ]
  },
  {
   "cell_type": "code",
   "execution_count": 76,
   "metadata": {},
   "outputs": [
    {
     "data": {
      "text/html": [
       "<div>\n",
       "<style scoped>\n",
       "    .dataframe tbody tr th:only-of-type {\n",
       "        vertical-align: middle;\n",
       "    }\n",
       "\n",
       "    .dataframe tbody tr th {\n",
       "        vertical-align: top;\n",
       "    }\n",
       "\n",
       "    .dataframe thead th {\n",
       "        text-align: right;\n",
       "    }\n",
       "</style>\n",
       "<table border=\"1\" class=\"dataframe\">\n",
       "  <thead>\n",
       "    <tr style=\"text-align: right;\">\n",
       "      <th></th>\n",
       "      <th>Method</th>\n",
       "      <th>Accuracy</th>\n",
       "    </tr>\n",
       "  </thead>\n",
       "  <tbody>\n",
       "    <tr>\n",
       "      <th>1</th>\n",
       "      <td>NN with Adam &amp; RELU</td>\n",
       "      <td>0.878850</td>\n",
       "    </tr>\n",
       "    <tr>\n",
       "      <th>2</th>\n",
       "      <td>NN with SGD &amp; RELU</td>\n",
       "      <td>0.249833</td>\n",
       "    </tr>\n",
       "  </tbody>\n",
       "</table>\n",
       "</div>"
      ],
      "text/plain": [
       "                Method  Accuracy\n",
       "1  NN with Adam & RELU  0.878850\n",
       "2   NN with SGD & RELU  0.249833"
      ]
     },
     "execution_count": 76,
     "metadata": {},
     "output_type": "execute_result"
    }
   ],
   "source": [
    "# All Accuracy of model need to compile for further analysis and conclusion\n",
    "accuracy_of_val1 = pd.DataFrame({'Method':['NN with SGD & RELU'], 'Accuracy': accuracy1[1]},index={'2'})\n",
    "accuracy_of_val =pd.concat([accuracy_of_val,accuracy_of_val1])\n",
    "accuracy_of_val = accuracy_of_val[['Method', 'Accuracy']]\n",
    "accuracy_of_val"
   ]
  },
  {
   "cell_type": "markdown",
   "metadata": {},
   "source": [
    "Step 3\n",
    "#### Optimizer: \"adam\"  with Learning Rate: 0.0001\n",
    "#### Activation Function: \"sigmoid\""
   ]
  },
  {
   "cell_type": "code",
   "execution_count": 77,
   "metadata": {},
   "outputs": [],
   "source": [
    "# Initialize Sequential model\n",
    "model2 = tf.keras.models.Sequential()\n",
    "\n",
    "# Reshape data from 2D to 1D -> 32x32 to 1024\n",
    "model2.add(tf.keras.layers.Reshape((1024,),input_shape=(32,32,)))"
   ]
  },
  {
   "cell_type": "code",
   "execution_count": 78,
   "metadata": {},
   "outputs": [],
   "source": [
    "#Input Layer\n",
    "model2.add(tf.keras.layers.Dense(512, activation='sigmoid', name='Input'))\n",
    "\n",
    "# Hidden layers\n",
    "model2.add(tf.keras.layers.Dense(256, activation='sigmoid', name='Layer_1'))\n",
    "model2.add(tf.keras.layers.Dense(128, activation='sigmoid', name='Layer_2'))\n",
    "\n",
    "\n",
    "# Hidden layers\n",
    "model2.add(tf.keras.layers.Dense(64, activation='sigmoid', name='Layer_3'))\n",
    "model2.add(tf.keras.layers.Dense(32, activation='sigmoid', name='Layer_4'))\n",
    "\n",
    "\n",
    "#Output layer\n",
    "model2.add(tf.keras.layers.Dense(10, activation='softmax', name='Output'))"
   ]
  },
  {
   "cell_type": "code",
   "execution_count": 79,
   "metadata": {},
   "outputs": [],
   "source": [
    "#Compile the model\n",
    "model2.compile(optimizer=adam_optimiser2, loss='categorical_crossentropy', metrics=['accuracy'])"
   ]
  },
  {
   "cell_type": "code",
   "execution_count": 80,
   "metadata": {},
   "outputs": [
    {
     "name": "stdout",
     "output_type": "stream",
     "text": [
      "Train on 42000 samples, validate on 60000 samples\n",
      "Epoch 1/100\n",
      "42000/42000 [==============================] - 5s 109us/sample - loss: 2.3132 - accuracy: 0.0982 - val_loss: 2.3029 - val_accuracy: 0.1000\n",
      "Epoch 2/100\n",
      "42000/42000 [==============================] - 4s 97us/sample - loss: 2.3030 - accuracy: 0.0997 - val_loss: 2.3026 - val_accuracy: 0.1000\n",
      "Epoch 3/100\n",
      "42000/42000 [==============================] - 4s 97us/sample - loss: 2.3028 - accuracy: 0.0993 - val_loss: 2.3027 - val_accuracy: 0.1000\n",
      "Epoch 4/100\n",
      "42000/42000 [==============================] - 4s 93us/sample - loss: 2.3026 - accuracy: 0.1008 - val_loss: 2.3024 - val_accuracy: 0.1006\n",
      "Epoch 5/100\n",
      "42000/42000 [==============================] - 4s 93us/sample - loss: 2.3023 - accuracy: 0.1054 - val_loss: 2.3016 - val_accuracy: 0.1283\n",
      "Epoch 6/100\n",
      "42000/42000 [==============================] - 4s 93us/sample - loss: 2.3007 - accuracy: 0.1140 - val_loss: 2.2986 - val_accuracy: 0.1120\n",
      "Epoch 7/100\n",
      "42000/42000 [==============================] - 4s 93us/sample - loss: 2.2942 - accuracy: 0.1178 - val_loss: 2.2900 - val_accuracy: 0.1069\n",
      "Epoch 8/100\n",
      "42000/42000 [==============================] - 4s 93us/sample - loss: 2.2754 - accuracy: 0.1273 - val_loss: 2.2610 - val_accuracy: 0.1352\n",
      "Epoch 9/100\n",
      "42000/42000 [==============================] - 4s 93us/sample - loss: 2.2402 - accuracy: 0.1433 - val_loss: 2.2238 - val_accuracy: 0.1257\n",
      "Epoch 10/100\n",
      "42000/42000 [==============================] - 4s 94us/sample - loss: 2.1995 - accuracy: 0.1599 - val_loss: 2.1716 - val_accuracy: 0.1681\n",
      "Epoch 11/100\n",
      "42000/42000 [==============================] - 4s 95us/sample - loss: 2.1715 - accuracy: 0.1600 - val_loss: 2.1676 - val_accuracy: 0.1508\n",
      "Epoch 12/100\n",
      "42000/42000 [==============================] - 4s 94us/sample - loss: 2.1362 - accuracy: 0.1672 - val_loss: 2.1344 - val_accuracy: 0.1672\n",
      "Epoch 13/100\n",
      "42000/42000 [==============================] - 4s 94us/sample - loss: 2.1188 - accuracy: 0.1667 - val_loss: 2.1103 - val_accuracy: 0.1709\n",
      "Epoch 14/100\n",
      "42000/42000 [==============================] - 4s 94us/sample - loss: 2.1039 - accuracy: 0.1700 - val_loss: 2.1087 - val_accuracy: 0.1663\n",
      "Epoch 15/100\n",
      "42000/42000 [==============================] - 4s 104us/sample - loss: 2.0947 - accuracy: 0.1715 - val_loss: 2.0746 - val_accuracy: 0.1730\n",
      "Epoch 16/100\n",
      "42000/42000 [==============================] - 4s 94us/sample - loss: 2.0902 - accuracy: 0.1721 - val_loss: 2.0797 - val_accuracy: 0.1821\n",
      "Epoch 17/100\n",
      "42000/42000 [==============================] - 4s 93us/sample - loss: 2.0856 - accuracy: 0.1773 - val_loss: 2.0838 - val_accuracy: 0.1850\n",
      "Epoch 18/100\n",
      "42000/42000 [==============================] - 4s 94us/sample - loss: 2.0730 - accuracy: 0.1846 - val_loss: 2.0731 - val_accuracy: 0.1825\n",
      "Epoch 19/100\n",
      "42000/42000 [==============================] - 4s 94us/sample - loss: 2.0796 - accuracy: 0.1755 - val_loss: 2.0681 - val_accuracy: 0.1827\n",
      "Epoch 20/100\n",
      "42000/42000 [==============================] - 4s 94us/sample - loss: 2.0704 - accuracy: 0.1821 - val_loss: 2.0796 - val_accuracy: 0.1818\n",
      "Epoch 21/100\n",
      "42000/42000 [==============================] - 4s 94us/sample - loss: 2.0725 - accuracy: 0.1794 - val_loss: 2.0859 - val_accuracy: 0.1807\n",
      "Epoch 22/100\n",
      "42000/42000 [==============================] - 4s 94us/sample - loss: 2.0736 - accuracy: 0.1784 - val_loss: 2.0604 - val_accuracy: 0.1808\n",
      "Epoch 23/100\n",
      "42000/42000 [==============================] - 4s 94us/sample - loss: 2.0698 - accuracy: 0.1798 - val_loss: 2.0779 - val_accuracy: 0.1786\n",
      "Epoch 24/100\n",
      "42000/42000 [==============================] - 4s 94us/sample - loss: 2.0655 - accuracy: 0.1837 - val_loss: 2.0782 - val_accuracy: 0.1763\n",
      "Epoch 25/100\n",
      "42000/42000 [==============================] - 4s 102us/sample - loss: 2.0693 - accuracy: 0.1834 - val_loss: 2.0637 - val_accuracy: 0.1772\n",
      "Epoch 26/100\n",
      "42000/42000 [==============================] - 4s 96us/sample - loss: 2.0569 - accuracy: 0.1830 - val_loss: 2.0621 - val_accuracy: 0.1837\n",
      "Epoch 27/100\n",
      "42000/42000 [==============================] - 4s 94us/sample - loss: 2.0622 - accuracy: 0.1825 - val_loss: 2.0620 - val_accuracy: 0.1861\n",
      "Epoch 28/100\n",
      "42000/42000 [==============================] - 4s 95us/sample - loss: 2.0593 - accuracy: 0.1806 - val_loss: 2.0705 - val_accuracy: 0.1810\n",
      "Epoch 29/100\n",
      "42000/42000 [==============================] - 4s 94us/sample - loss: 2.0576 - accuracy: 0.1808 - val_loss: 2.0639 - val_accuracy: 0.1726\n",
      "Epoch 30/100\n",
      "42000/42000 [==============================] - 4s 94us/sample - loss: 2.0540 - accuracy: 0.1830 - val_loss: 2.0469 - val_accuracy: 0.1897\n",
      "Epoch 31/100\n",
      "42000/42000 [==============================] - 4s 94us/sample - loss: 2.0543 - accuracy: 0.1857 - val_loss: 2.0455 - val_accuracy: 0.1900\n",
      "Epoch 32/100\n",
      "42000/42000 [==============================] - 4s 94us/sample - loss: 2.0499 - accuracy: 0.1837 - val_loss: 2.0504 - val_accuracy: 0.1808\n",
      "Epoch 33/100\n",
      "42000/42000 [==============================] - 4s 94us/sample - loss: 2.0527 - accuracy: 0.1867 - val_loss: 2.0734 - val_accuracy: 0.1740\n",
      "Epoch 34/100\n",
      "42000/42000 [==============================] - 4s 94us/sample - loss: 2.0592 - accuracy: 0.1827 - val_loss: 2.0377 - val_accuracy: 0.1966\n",
      "Epoch 35/100\n",
      "42000/42000 [==============================] - 4s 95us/sample - loss: 2.0511 - accuracy: 0.1849 - val_loss: 2.0724 - val_accuracy: 0.1809\n",
      "Epoch 36/100\n",
      "42000/42000 [==============================] - 4s 92us/sample - loss: 2.0412 - accuracy: 0.1911 - val_loss: 2.0338 - val_accuracy: 0.1957\n",
      "Epoch 37/100\n",
      "42000/42000 [==============================] - 4s 93us/sample - loss: 2.0407 - accuracy: 0.1901 - val_loss: 2.0367 - val_accuracy: 0.1904\n",
      "Epoch 38/100\n",
      "42000/42000 [==============================] - 4s 92us/sample - loss: 2.0390 - accuracy: 0.1919 - val_loss: 2.0412 - val_accuracy: 0.1939\n",
      "Epoch 39/100\n",
      "42000/42000 [==============================] - 4s 92us/sample - loss: 2.0384 - accuracy: 0.1910 - val_loss: 2.0501 - val_accuracy: 0.1815\n",
      "Epoch 40/100\n",
      "42000/42000 [==============================] - 4s 92us/sample - loss: 2.0332 - accuracy: 0.1949 - val_loss: 2.0640 - val_accuracy: 0.1822\n",
      "Epoch 41/100\n",
      "42000/42000 [==============================] - 4s 93us/sample - loss: 2.0333 - accuracy: 0.1917 - val_loss: 2.0352 - val_accuracy: 0.2014\n",
      "Epoch 42/100\n",
      "42000/42000 [==============================] - 4s 92us/sample - loss: 2.0242 - accuracy: 0.2020 - val_loss: 2.0206 - val_accuracy: 0.2034\n",
      "Epoch 43/100\n",
      "42000/42000 [==============================] - 4s 92us/sample - loss: 2.0260 - accuracy: 0.2000 - val_loss: 2.0407 - val_accuracy: 0.1948\n",
      "Epoch 44/100\n",
      "42000/42000 [==============================] - 4s 94us/sample - loss: 2.0248 - accuracy: 0.1988 - val_loss: 2.0224 - val_accuracy: 0.1822\n",
      "Epoch 45/100\n",
      "42000/42000 [==============================] - 4s 93us/sample - loss: 2.0234 - accuracy: 0.1959 - val_loss: 2.0230 - val_accuracy: 0.2007\n",
      "Epoch 46/100\n",
      "42000/42000 [==============================] - 4s 93us/sample - loss: 2.0159 - accuracy: 0.2055 - val_loss: 2.0101 - val_accuracy: 0.2047\n",
      "Epoch 47/100\n",
      "42000/42000 [==============================] - 4s 93us/sample - loss: 2.0148 - accuracy: 0.2032 - val_loss: 2.0215 - val_accuracy: 0.2079\n",
      "Epoch 48/100\n",
      "42000/42000 [==============================] - 4s 93us/sample - loss: 2.0134 - accuracy: 0.2053 - val_loss: 2.0153 - val_accuracy: 0.2012\n",
      "Epoch 49/100\n",
      "42000/42000 [==============================] - 4s 92us/sample - loss: 2.0144 - accuracy: 0.2041 - val_loss: 2.0177 - val_accuracy: 0.2051\n",
      "Epoch 50/100\n",
      "42000/42000 [==============================] - 4s 93us/sample - loss: 2.0203 - accuracy: 0.2050 - val_loss: 2.0079 - val_accuracy: 0.2092\n",
      "Epoch 51/100\n",
      "42000/42000 [==============================] - 4s 93us/sample - loss: 2.0155 - accuracy: 0.2006 - val_loss: 2.0110 - val_accuracy: 0.2042\n",
      "Epoch 52/100\n",
      "42000/42000 [==============================] - 4s 93us/sample - loss: 2.0069 - accuracy: 0.2063 - val_loss: 2.0006 - val_accuracy: 0.2110\n",
      "Epoch 53/100\n",
      "42000/42000 [==============================] - 4s 93us/sample - loss: 2.0203 - accuracy: 0.2060 - val_loss: 2.0154 - val_accuracy: 0.1975\n",
      "Epoch 54/100\n",
      "42000/42000 [==============================] - 4s 93us/sample - loss: 2.0080 - accuracy: 0.2083 - val_loss: 2.0054 - val_accuracy: 0.2154\n"
     ]
    },
    {
     "name": "stdout",
     "output_type": "stream",
     "text": [
      "Epoch 55/100\n",
      "42000/42000 [==============================] - 4s 91us/sample - loss: 2.0027 - accuracy: 0.2113 - val_loss: 2.0161 - val_accuracy: 0.1968\n",
      "Epoch 56/100\n",
      "42000/42000 [==============================] - 4s 91us/sample - loss: 2.0096 - accuracy: 0.2067 - val_loss: 1.9964 - val_accuracy: 0.2174\n",
      "Epoch 57/100\n",
      "42000/42000 [==============================] - 4s 91us/sample - loss: 2.0028 - accuracy: 0.2066 - val_loss: 1.9978 - val_accuracy: 0.2161\n",
      "Epoch 58/100\n",
      "42000/42000 [==============================] - 4s 99us/sample - loss: 1.9977 - accuracy: 0.2142 - val_loss: 1.9958 - val_accuracy: 0.2165\n",
      "Epoch 59/100\n",
      "42000/42000 [==============================] - 4s 96us/sample - loss: 2.0011 - accuracy: 0.2111 - val_loss: 1.9955 - val_accuracy: 0.2216\n",
      "Epoch 60/100\n",
      "42000/42000 [==============================] - 4s 91us/sample - loss: 1.9925 - accuracy: 0.2193 - val_loss: 2.0040 - val_accuracy: 0.2121\n",
      "Epoch 61/100\n",
      "42000/42000 [==============================] - 4s 92us/sample - loss: 1.9967 - accuracy: 0.2165 - val_loss: 1.9869 - val_accuracy: 0.2226\n",
      "Epoch 62/100\n",
      "42000/42000 [==============================] - 4s 92us/sample - loss: 1.9974 - accuracy: 0.2156 - val_loss: 2.0101 - val_accuracy: 0.2125\n",
      "Epoch 63/100\n",
      "42000/42000 [==============================] - 4s 92us/sample - loss: 1.9923 - accuracy: 0.2159 - val_loss: 1.9868 - val_accuracy: 0.2237\n",
      "Epoch 64/100\n",
      "42000/42000 [==============================] - 4s 101us/sample - loss: 1.9924 - accuracy: 0.2176 - val_loss: 2.0092 - val_accuracy: 0.1978\n",
      "Epoch 65/100\n",
      "42000/42000 [==============================] - 4s 94us/sample - loss: 1.9884 - accuracy: 0.2193 - val_loss: 1.9825 - val_accuracy: 0.2172\n",
      "Epoch 66/100\n",
      "42000/42000 [==============================] - 4s 93us/sample - loss: 1.9930 - accuracy: 0.2155 - val_loss: 1.9871 - val_accuracy: 0.2206\n",
      "Epoch 67/100\n",
      "42000/42000 [==============================] - 4s 94us/sample - loss: 1.9856 - accuracy: 0.2180 - val_loss: 1.9864 - val_accuracy: 0.2222\n",
      "Epoch 68/100\n",
      "42000/42000 [==============================] - 4s 93us/sample - loss: 1.9830 - accuracy: 0.2237 - val_loss: 1.9881 - val_accuracy: 0.2114\n",
      "Epoch 69/100\n",
      "42000/42000 [==============================] - 4s 93us/sample - loss: 1.9830 - accuracy: 0.2216 - val_loss: 1.9879 - val_accuracy: 0.2187\n",
      "Epoch 70/100\n",
      "42000/42000 [==============================] - 4s 93us/sample - loss: 1.9827 - accuracy: 0.2244 - val_loss: 1.9757 - val_accuracy: 0.2311\n",
      "Epoch 71/100\n",
      "42000/42000 [==============================] - 4s 93us/sample - loss: 1.9806 - accuracy: 0.2229 - val_loss: 2.0031 - val_accuracy: 0.2230\n",
      "Epoch 72/100\n",
      "42000/42000 [==============================] - 4s 94us/sample - loss: 1.9825 - accuracy: 0.2235 - val_loss: 1.9802 - val_accuracy: 0.2260\n",
      "Epoch 73/100\n",
      "42000/42000 [==============================] - 4s 93us/sample - loss: 1.9848 - accuracy: 0.2217 - val_loss: 1.9701 - val_accuracy: 0.2335\n",
      "Epoch 74/100\n",
      "42000/42000 [==============================] - 4s 93us/sample - loss: 1.9771 - accuracy: 0.2259 - val_loss: 1.9674 - val_accuracy: 0.2315\n",
      "Epoch 75/100\n",
      "42000/42000 [==============================] - 4s 96us/sample - loss: 1.9801 - accuracy: 0.2244 - val_loss: 1.9710 - val_accuracy: 0.2304\n",
      "Epoch 76/100\n",
      "42000/42000 [==============================] - 4s 93us/sample - loss: 1.9689 - accuracy: 0.2303 - val_loss: 1.9723 - val_accuracy: 0.2244\n",
      "Epoch 77/100\n",
      "42000/42000 [==============================] - 4s 96us/sample - loss: 1.9693 - accuracy: 0.2334 - val_loss: 1.9664 - val_accuracy: 0.2304\n",
      "Epoch 78/100\n",
      "42000/42000 [==============================] - 4s 93us/sample - loss: 1.9710 - accuracy: 0.2290 - val_loss: 1.9743 - val_accuracy: 0.2167\n",
      "Epoch 79/100\n",
      "42000/42000 [==============================] - 4s 94us/sample - loss: 1.9718 - accuracy: 0.2289 - val_loss: 1.9563 - val_accuracy: 0.2363\n",
      "Epoch 80/100\n",
      "42000/42000 [==============================] - 4s 93us/sample - loss: 1.9657 - accuracy: 0.2299 - val_loss: 1.9597 - val_accuracy: 0.2343\n",
      "Epoch 81/100\n",
      "42000/42000 [==============================] - 4s 94us/sample - loss: 1.9562 - accuracy: 0.2344 - val_loss: 1.9903 - val_accuracy: 0.2188\n",
      "Epoch 82/100\n",
      "42000/42000 [==============================] - 4s 93us/sample - loss: 1.9660 - accuracy: 0.2279 - val_loss: 1.9630 - val_accuracy: 0.2329\n",
      "Epoch 83/100\n",
      "42000/42000 [==============================] - 4s 94us/sample - loss: 1.9639 - accuracy: 0.2302 - val_loss: 1.9628 - val_accuracy: 0.2279\n",
      "Epoch 84/100\n",
      "42000/42000 [==============================] - 4s 94us/sample - loss: 1.9575 - accuracy: 0.2357 - val_loss: 1.9489 - val_accuracy: 0.2406\n",
      "Epoch 85/100\n",
      "42000/42000 [==============================] - 4s 94us/sample - loss: 1.9644 - accuracy: 0.2343 - val_loss: 1.9434 - val_accuracy: 0.2376\n",
      "Epoch 86/100\n",
      "42000/42000 [==============================] - 4s 93us/sample - loss: 1.9528 - accuracy: 0.2345 - val_loss: 1.9484 - val_accuracy: 0.2379\n",
      "Epoch 87/100\n",
      "42000/42000 [==============================] - 4s 93us/sample - loss: 1.9578 - accuracy: 0.2331 - val_loss: 1.9440 - val_accuracy: 0.2390\n",
      "Epoch 88/100\n",
      "42000/42000 [==============================] - 4s 93us/sample - loss: 1.9504 - accuracy: 0.2365 - val_loss: 1.9647 - val_accuracy: 0.2322\n",
      "Epoch 89/100\n",
      "42000/42000 [==============================] - 4s 96us/sample - loss: 1.9473 - accuracy: 0.2361 - val_loss: 1.9534 - val_accuracy: 0.2302\n",
      "Epoch 90/100\n",
      "42000/42000 [==============================] - 4s 96us/sample - loss: 1.9481 - accuracy: 0.2353 - val_loss: 1.9470 - val_accuracy: 0.2319\n",
      "Epoch 91/100\n",
      "42000/42000 [==============================] - 4s 94us/sample - loss: 1.9527 - accuracy: 0.2336 - val_loss: 1.9561 - val_accuracy: 0.2278\n",
      "Epoch 92/100\n",
      "42000/42000 [==============================] - 4s 95us/sample - loss: 1.9486 - accuracy: 0.2380 - val_loss: 1.9411 - val_accuracy: 0.2326\n",
      "Epoch 93/100\n",
      "42000/42000 [==============================] - 4s 94us/sample - loss: 1.9458 - accuracy: 0.2352 - val_loss: 1.9381 - val_accuracy: 0.2422\n",
      "Epoch 94/100\n",
      "42000/42000 [==============================] - 4s 94us/sample - loss: 1.9387 - accuracy: 0.2421 - val_loss: 1.9435 - val_accuracy: 0.2334\n",
      "Epoch 95/100\n",
      "42000/42000 [==============================] - 4s 94us/sample - loss: 1.9369 - accuracy: 0.2400 - val_loss: 1.9406 - val_accuracy: 0.2424\n",
      "Epoch 96/100\n",
      "42000/42000 [==============================] - 4s 99us/sample - loss: 1.9441 - accuracy: 0.2367 - val_loss: 1.9326 - val_accuracy: 0.2341\n",
      "Epoch 97/100\n",
      "42000/42000 [==============================] - 4s 94us/sample - loss: 1.9363 - accuracy: 0.2420 - val_loss: 1.9444 - val_accuracy: 0.2271\n",
      "Epoch 98/100\n",
      "42000/42000 [==============================] - 4s 94us/sample - loss: 1.9347 - accuracy: 0.2415 - val_loss: 1.9368 - val_accuracy: 0.2408\n",
      "Epoch 99/100\n",
      "42000/42000 [==============================] - 4s 96us/sample - loss: 1.9301 - accuracy: 0.2424 - val_loss: 1.9374 - val_accuracy: 0.2393\n",
      "Epoch 100/100\n",
      "42000/42000 [==============================] - 4s 94us/sample - loss: 1.9310 - accuracy: 0.2462 - val_loss: 1.9215 - val_accuracy: 0.2530\n"
     ]
    },
    {
     "data": {
      "text/plain": [
       "<tensorflow.python.keras.callbacks.History at 0xc8893aecc8>"
      ]
     },
     "execution_count": 80,
     "metadata": {},
     "output_type": "execute_result"
    }
   ],
   "source": [
    "model2.fit(X_train, y_train1, validation_data=(X_val, y_val),batch_size=300 ,epochs=100, verbose=1 )"
   ]
  },
  {
   "cell_type": "code",
   "execution_count": 81,
   "metadata": {},
   "outputs": [
    {
     "name": "stdout",
     "output_type": "stream",
     "text": [
      "Accuracy of NN with Adam Optimiser & Sigmoid on Validation data is  [1.9215358931859334, 0.25305]\n"
     ]
    }
   ],
   "source": [
    "accuracy2 = model2.evaluate(X_val, y_val, verbose=0)\n",
    "print(\"Accuracy of NN with Adam Optimiser & Sigmoid on Validation data is \", accuracy2)"
   ]
  },
  {
   "cell_type": "code",
   "execution_count": 82,
   "metadata": {},
   "outputs": [
    {
     "data": {
      "text/html": [
       "<div>\n",
       "<style scoped>\n",
       "    .dataframe tbody tr th:only-of-type {\n",
       "        vertical-align: middle;\n",
       "    }\n",
       "\n",
       "    .dataframe tbody tr th {\n",
       "        vertical-align: top;\n",
       "    }\n",
       "\n",
       "    .dataframe thead th {\n",
       "        text-align: right;\n",
       "    }\n",
       "</style>\n",
       "<table border=\"1\" class=\"dataframe\">\n",
       "  <thead>\n",
       "    <tr style=\"text-align: right;\">\n",
       "      <th></th>\n",
       "      <th>Method</th>\n",
       "      <th>Accuracy</th>\n",
       "    </tr>\n",
       "  </thead>\n",
       "  <tbody>\n",
       "    <tr>\n",
       "      <th>1</th>\n",
       "      <td>NN with Adam &amp; RELU</td>\n",
       "      <td>0.878850</td>\n",
       "    </tr>\n",
       "    <tr>\n",
       "      <th>2</th>\n",
       "      <td>NN with SGD &amp; RELU</td>\n",
       "      <td>0.249833</td>\n",
       "    </tr>\n",
       "    <tr>\n",
       "      <th>3</th>\n",
       "      <td>NN with adam &amp; sigmoid</td>\n",
       "      <td>0.253050</td>\n",
       "    </tr>\n",
       "  </tbody>\n",
       "</table>\n",
       "</div>"
      ],
      "text/plain": [
       "                   Method  Accuracy\n",
       "1     NN with Adam & RELU  0.878850\n",
       "2      NN with SGD & RELU  0.249833\n",
       "3  NN with adam & sigmoid  0.253050"
      ]
     },
     "execution_count": 82,
     "metadata": {},
     "output_type": "execute_result"
    }
   ],
   "source": [
    "# All Accuracy of model need to compile for further analysis and conclusion\n",
    "accuracy_of_val2 = pd.DataFrame({'Method':['NN with adam & sigmoid'], 'Accuracy': accuracy2[1]},index={'3'})\n",
    "accuracy_of_val =pd.concat([accuracy_of_val,accuracy_of_val2])\n",
    "accuracy_of_val = accuracy_of_val[['Method', 'Accuracy']]\n",
    "accuracy_of_val"
   ]
  },
  {
   "cell_type": "markdown",
   "metadata": {},
   "source": [
    "### Apply Batch Normalisation to all step 1 to 8"
   ]
  },
  {
   "cell_type": "code",
   "execution_count": 83,
   "metadata": {},
   "outputs": [],
   "source": [
    "model4 = tf.keras.models.Sequential()\n",
    "\n",
    "# Reshape data from 2D to 1D -> 32x32 to 1024\n",
    "model4.add(tf.keras.layers.Reshape((1024,),input_shape=(32,32,)))\n",
    "\n",
    "# Normalize the data\n",
    "model4.add(tf.keras.layers.BatchNormalization())"
   ]
  },
  {
   "cell_type": "markdown",
   "metadata": {},
   "source": [
    "Step 1.1\n",
    "#### Optimizer: \"adam\"  with Learning Rate: 0.01\n",
    "#### Activation Function: \"relu\""
   ]
  },
  {
   "cell_type": "code",
   "execution_count": 84,
   "metadata": {},
   "outputs": [],
   "source": [
    "model4.add(tf.keras.layers.Dense(512, activation='relu', name='input'))\n",
    "\n",
    "# Hidden layers\n",
    "model4.add(tf.keras.layers.Dense(256, activation='relu', name='Layer_1'))\n",
    "model4.add(tf.keras.layers.Dense(128, activation='relu', name='Layer_2'))\n",
    "\n",
    "\n",
    "# Hidden layers\n",
    "model4.add(tf.keras.layers.Dense(64, activation='relu', name='Layer_3'))\n",
    "model4.add(tf.keras.layers.Dense(32, activation='relu', name='Layer_4'))\n",
    "\n",
    "\n",
    "#Output layer\n",
    "model4.add(tf.keras.layers.Dense(10, activation='softmax', name='Output'))"
   ]
  },
  {
   "cell_type": "code",
   "execution_count": 85,
   "metadata": {},
   "outputs": [],
   "source": [
    "# Adam Optimiser with Lr= 0.0001\n",
    "model4.compile(optimizer=adam_optimiser2, loss='categorical_crossentropy', metrics=['accuracy']) "
   ]
  },
  {
   "cell_type": "code",
   "execution_count": 86,
   "metadata": {
    "scrolled": false
   },
   "outputs": [
    {
     "name": "stdout",
     "output_type": "stream",
     "text": [
      "Train on 42000 samples, validate on 60000 samples\n",
      "Epoch 1/100\n",
      "42000/42000 [==============================] - 6s 146us/sample - loss: 1.5876 - accuracy: 0.4694 - val_loss: 1.0787 - val_accuracy: 0.6700\n",
      "Epoch 2/100\n",
      "42000/42000 [==============================] - 5s 122us/sample - loss: 0.9845 - accuracy: 0.7014 - val_loss: 0.8863 - val_accuracy: 0.7320\n",
      "Epoch 3/100\n",
      "42000/42000 [==============================] - 5s 122us/sample - loss: 0.8314 - accuracy: 0.7495 - val_loss: 0.7707 - val_accuracy: 0.7686\n",
      "Epoch 4/100\n",
      "42000/42000 [==============================] - 5s 123us/sample - loss: 0.7372 - accuracy: 0.7793 - val_loss: 0.6940 - val_accuracy: 0.7927\n",
      "Epoch 5/100\n",
      "42000/42000 [==============================] - 5s 123us/sample - loss: 0.6713 - accuracy: 0.7983 - val_loss: 0.6392 - val_accuracy: 0.8107\n",
      "Epoch 6/100\n",
      "42000/42000 [==============================] - 5s 123us/sample - loss: 0.6223 - accuracy: 0.8115 - val_loss: 0.6097 - val_accuracy: 0.8188\n",
      "Epoch 7/100\n",
      "42000/42000 [==============================] - 5s 123us/sample - loss: 0.5809 - accuracy: 0.8260 - val_loss: 0.5935 - val_accuracy: 0.8234\n",
      "Epoch 8/100\n",
      "42000/42000 [==============================] - 5s 124us/sample - loss: 0.5435 - accuracy: 0.8379 - val_loss: 0.5485 - val_accuracy: 0.8391\n",
      "Epoch 9/100\n",
      "42000/42000 [==============================] - 5s 127us/sample - loss: 0.5146 - accuracy: 0.8451 - val_loss: 0.5225 - val_accuracy: 0.8481\n",
      "Epoch 10/100\n",
      "42000/42000 [==============================] - 5s 123us/sample - loss: 0.4891 - accuracy: 0.8538 - val_loss: 0.4999 - val_accuracy: 0.8536\n",
      "Epoch 11/100\n",
      "42000/42000 [==============================] - 6s 133us/sample - loss: 0.4648 - accuracy: 0.8614 - val_loss: 0.4829 - val_accuracy: 0.8613\n",
      "Epoch 12/100\n",
      "42000/42000 [==============================] - 5s 123us/sample - loss: 0.4441 - accuracy: 0.8670 - val_loss: 0.4664 - val_accuracy: 0.8654\n",
      "Epoch 13/100\n",
      "42000/42000 [==============================] - 5s 123us/sample - loss: 0.4301 - accuracy: 0.8709 - val_loss: 0.4496 - val_accuracy: 0.8719\n",
      "Epoch 14/100\n",
      "42000/42000 [==============================] - 5s 123us/sample - loss: 0.4056 - accuracy: 0.8790 - val_loss: 0.4390 - val_accuracy: 0.8755\n",
      "Epoch 15/100\n",
      "42000/42000 [==============================] - 5s 124us/sample - loss: 0.3919 - accuracy: 0.8844 - val_loss: 0.4424 - val_accuracy: 0.8746\n",
      "Epoch 16/100\n",
      "42000/42000 [==============================] - 5s 124us/sample - loss: 0.3788 - accuracy: 0.8853 - val_loss: 0.4042 - val_accuracy: 0.8871\n",
      "Epoch 17/100\n",
      "42000/42000 [==============================] - 5s 124us/sample - loss: 0.3592 - accuracy: 0.8956 - val_loss: 0.4223 - val_accuracy: 0.8787\n",
      "Epoch 18/100\n",
      "42000/42000 [==============================] - 5s 124us/sample - loss: 0.3510 - accuracy: 0.8955 - val_loss: 0.3929 - val_accuracy: 0.8903\n",
      "Epoch 19/100\n",
      "42000/42000 [==============================] - 5s 124us/sample - loss: 0.3344 - accuracy: 0.9007 - val_loss: 0.3833 - val_accuracy: 0.8950\n",
      "Epoch 20/100\n",
      "42000/42000 [==============================] - 5s 125us/sample - loss: 0.3264 - accuracy: 0.9025 - val_loss: 0.3895 - val_accuracy: 0.8925\n",
      "Epoch 21/100\n",
      "42000/42000 [==============================] - 5s 124us/sample - loss: 0.3116 - accuracy: 0.9075 - val_loss: 0.3833 - val_accuracy: 0.8947\n",
      "Epoch 22/100\n",
      "42000/42000 [==============================] - 5s 125us/sample - loss: 0.3028 - accuracy: 0.9109 - val_loss: 0.3676 - val_accuracy: 0.9002\n",
      "Epoch 23/100\n",
      "42000/42000 [==============================] - 5s 124us/sample - loss: 0.2901 - accuracy: 0.9142 - val_loss: 0.3699 - val_accuracy: 0.8977\n",
      "Epoch 24/100\n",
      "42000/42000 [==============================] - 5s 125us/sample - loss: 0.2818 - accuracy: 0.9176 - val_loss: 0.3569 - val_accuracy: 0.9022\n",
      "Epoch 25/100\n",
      "42000/42000 [==============================] - 5s 125us/sample - loss: 0.2724 - accuracy: 0.9198 - val_loss: 0.3451 - val_accuracy: 0.9070\n",
      "Epoch 26/100\n",
      "42000/42000 [==============================] - 5s 124us/sample - loss: 0.2604 - accuracy: 0.9248 - val_loss: 0.3408 - val_accuracy: 0.9092\n",
      "Epoch 27/100\n",
      "42000/42000 [==============================] - 5s 124us/sample - loss: 0.2519 - accuracy: 0.9261 - val_loss: 0.3392 - val_accuracy: 0.9101\n",
      "Epoch 28/100\n",
      "42000/42000 [==============================] - 5s 124us/sample - loss: 0.2479 - accuracy: 0.9270 - val_loss: 0.3350 - val_accuracy: 0.9116\n",
      "Epoch 29/100\n",
      "42000/42000 [==============================] - 5s 125us/sample - loss: 0.2348 - accuracy: 0.9331 - val_loss: 0.3200 - val_accuracy: 0.9176\n",
      "Epoch 30/100\n",
      "42000/42000 [==============================] - 5s 124us/sample - loss: 0.2300 - accuracy: 0.9321 - val_loss: 0.3140 - val_accuracy: 0.9194\n",
      "Epoch 31/100\n",
      "42000/42000 [==============================] - 6s 133us/sample - loss: 0.2191 - accuracy: 0.9358 - val_loss: 0.3194 - val_accuracy: 0.9175\n",
      "Epoch 32/100\n",
      "42000/42000 [==============================] - 5s 123us/sample - loss: 0.2203 - accuracy: 0.9350 - val_loss: 0.3352 - val_accuracy: 0.9121\n",
      "Epoch 33/100\n",
      "42000/42000 [==============================] - 5s 123us/sample - loss: 0.2070 - accuracy: 0.9408 - val_loss: 0.3095 - val_accuracy: 0.9224\n",
      "Epoch 34/100\n",
      "42000/42000 [==============================] - 5s 128us/sample - loss: 0.2017 - accuracy: 0.9418 - val_loss: 0.3381 - val_accuracy: 0.9132\n",
      "Epoch 35/100\n",
      "42000/42000 [==============================] - 5s 128us/sample - loss: 0.1976 - accuracy: 0.9422 - val_loss: 0.3035 - val_accuracy: 0.9241\n",
      "Epoch 36/100\n",
      "42000/42000 [==============================] - 5s 129us/sample - loss: 0.1835 - accuracy: 0.9475 - val_loss: 0.3163 - val_accuracy: 0.9218\n",
      "Epoch 37/100\n",
      "42000/42000 [==============================] - 5s 127us/sample - loss: 0.1831 - accuracy: 0.9461 - val_loss: 0.2998 - val_accuracy: 0.9265\n",
      "Epoch 38/100\n",
      "42000/42000 [==============================] - 5s 125us/sample - loss: 0.1759 - accuracy: 0.9494 - val_loss: 0.3010 - val_accuracy: 0.9262\n",
      "Epoch 39/100\n",
      "42000/42000 [==============================] - 5s 125us/sample - loss: 0.1690 - accuracy: 0.9514 - val_loss: 0.2949 - val_accuracy: 0.9294\n",
      "Epoch 40/100\n",
      "42000/42000 [==============================] - 5s 125us/sample - loss: 0.1654 - accuracy: 0.9523 - val_loss: 0.3087 - val_accuracy: 0.9243\n",
      "Epoch 41/100\n",
      "42000/42000 [==============================] - 5s 129us/sample - loss: 0.1610 - accuracy: 0.9540 - val_loss: 0.2881 - val_accuracy: 0.9322\n",
      "Epoch 42/100\n",
      "42000/42000 [==============================] - 5s 125us/sample - loss: 0.1550 - accuracy: 0.9565 - val_loss: 0.3009 - val_accuracy: 0.9289\n",
      "Epoch 43/100\n",
      "42000/42000 [==============================] - 5s 125us/sample - loss: 0.1501 - accuracy: 0.9565 - val_loss: 0.2957 - val_accuracy: 0.9314\n",
      "Epoch 44/100\n",
      "42000/42000 [==============================] - 5s 125us/sample - loss: 0.1466 - accuracy: 0.9582 - val_loss: 0.3018 - val_accuracy: 0.9296\n",
      "Epoch 45/100\n",
      "42000/42000 [==============================] - 5s 125us/sample - loss: 0.1391 - accuracy: 0.9604 - val_loss: 0.2875 - val_accuracy: 0.9330\n",
      "Epoch 46/100\n",
      "42000/42000 [==============================] - 5s 126us/sample - loss: 0.1320 - accuracy: 0.9635 - val_loss: 0.3036 - val_accuracy: 0.9304\n",
      "Epoch 47/100\n",
      "42000/42000 [==============================] - 5s 126us/sample - loss: 0.1331 - accuracy: 0.9617 - val_loss: 0.2747 - val_accuracy: 0.9395\n",
      "Epoch 48/100\n",
      "42000/42000 [==============================] - 5s 126us/sample - loss: 0.1292 - accuracy: 0.9627 - val_loss: 0.2925 - val_accuracy: 0.9334\n",
      "Epoch 49/100\n",
      "42000/42000 [==============================] - 5s 125us/sample - loss: 0.1266 - accuracy: 0.9643 - val_loss: 0.2897 - val_accuracy: 0.9365\n",
      "Epoch 50/100\n",
      "42000/42000 [==============================] - 5s 126us/sample - loss: 0.1191 - accuracy: 0.9664 - val_loss: 0.2830 - val_accuracy: 0.9390\n",
      "Epoch 51/100\n",
      "42000/42000 [==============================] - 5s 125us/sample - loss: 0.1143 - accuracy: 0.9686 - val_loss: 0.2813 - val_accuracy: 0.9398\n",
      "Epoch 52/100\n",
      "42000/42000 [==============================] - 5s 125us/sample - loss: 0.1067 - accuracy: 0.9710 - val_loss: 0.3016 - val_accuracy: 0.9339\n",
      "Epoch 53/100\n",
      "42000/42000 [==============================] - 5s 125us/sample - loss: 0.1103 - accuracy: 0.9687 - val_loss: 0.2752 - val_accuracy: 0.9430\n",
      "Epoch 54/100\n"
     ]
    },
    {
     "name": "stdout",
     "output_type": "stream",
     "text": [
      "42000/42000 [==============================] - 5s 123us/sample - loss: 0.1027 - accuracy: 0.9706 - val_loss: 0.2851 - val_accuracy: 0.9398\n",
      "Epoch 55/100\n",
      "42000/42000 [==============================] - 5s 120us/sample - loss: 0.1042 - accuracy: 0.9704 - val_loss: 0.2818 - val_accuracy: 0.9420\n",
      "Epoch 56/100\n",
      "42000/42000 [==============================] - 5s 123us/sample - loss: 0.1008 - accuracy: 0.9720 - val_loss: 0.2832 - val_accuracy: 0.9408\n",
      "Epoch 57/100\n",
      "42000/42000 [==============================] - 5s 121us/sample - loss: 0.0975 - accuracy: 0.9721 - val_loss: 0.2815 - val_accuracy: 0.9428\n",
      "Epoch 58/100\n",
      "42000/42000 [==============================] - 5s 121us/sample - loss: 0.0964 - accuracy: 0.9719 - val_loss: 0.3039 - val_accuracy: 0.9370\n",
      "Epoch 59/100\n",
      "42000/42000 [==============================] - 5s 122us/sample - loss: 0.0941 - accuracy: 0.9728 - val_loss: 0.2855 - val_accuracy: 0.9423\n",
      "Epoch 60/100\n",
      "42000/42000 [==============================] - 5s 124us/sample - loss: 0.0867 - accuracy: 0.9762 - val_loss: 0.2769 - val_accuracy: 0.9456\n",
      "Epoch 61/100\n",
      "42000/42000 [==============================] - 5s 122us/sample - loss: 0.0820 - accuracy: 0.9775 - val_loss: 0.2899 - val_accuracy: 0.9425\n",
      "Epoch 62/100\n",
      "42000/42000 [==============================] - 6s 135us/sample - loss: 0.0876 - accuracy: 0.9755 - val_loss: 0.2905 - val_accuracy: 0.9432\n",
      "Epoch 63/100\n",
      "42000/42000 [==============================] - 5s 122us/sample - loss: 0.0831 - accuracy: 0.9762 - val_loss: 0.3021 - val_accuracy: 0.9394\n",
      "Epoch 64/100\n",
      "42000/42000 [==============================] - 5s 122us/sample - loss: 0.0839 - accuracy: 0.9759 - val_loss: 0.2894 - val_accuracy: 0.9439\n",
      "Epoch 65/100\n",
      "42000/42000 [==============================] - 5s 123us/sample - loss: 0.0788 - accuracy: 0.9779 - val_loss: 0.3024 - val_accuracy: 0.9417\n",
      "Epoch 66/100\n",
      "42000/42000 [==============================] - 5s 128us/sample - loss: 0.0808 - accuracy: 0.9761 - val_loss: 0.3004 - val_accuracy: 0.9428\n",
      "Epoch 67/100\n",
      "42000/42000 [==============================] - 5s 131us/sample - loss: 0.0692 - accuracy: 0.9811 - val_loss: 0.2868 - val_accuracy: 0.9466\n",
      "Epoch 68/100\n",
      "42000/42000 [==============================] - 5s 129us/sample - loss: 0.0702 - accuracy: 0.9806 - val_loss: 0.3000 - val_accuracy: 0.9427\n",
      "Epoch 69/100\n",
      "42000/42000 [==============================] - 5s 122us/sample - loss: 0.0689 - accuracy: 0.9799 - val_loss: 0.3052 - val_accuracy: 0.9406\n",
      "Epoch 70/100\n",
      "42000/42000 [==============================] - 5s 122us/sample - loss: 0.0703 - accuracy: 0.9800 - val_loss: 0.2902 - val_accuracy: 0.9487\n",
      "Epoch 71/100\n",
      "42000/42000 [==============================] - 5s 127us/sample - loss: 0.0636 - accuracy: 0.9820 - val_loss: 0.2975 - val_accuracy: 0.9458\n",
      "Epoch 72/100\n",
      "42000/42000 [==============================] - 5s 122us/sample - loss: 0.0762 - accuracy: 0.9779 - val_loss: 0.2982 - val_accuracy: 0.9450\n",
      "Epoch 73/100\n",
      "42000/42000 [==============================] - 5s 122us/sample - loss: 0.0601 - accuracy: 0.9839 - val_loss: 0.2995 - val_accuracy: 0.9467\n",
      "Epoch 74/100\n",
      "42000/42000 [==============================] - 5s 123us/sample - loss: 0.0647 - accuracy: 0.9820 - val_loss: 0.3040 - val_accuracy: 0.9451\n",
      "Epoch 75/100\n",
      "42000/42000 [==============================] - 5s 128us/sample - loss: 0.0600 - accuracy: 0.9827 - val_loss: 0.3266 - val_accuracy: 0.9397\n",
      "Epoch 76/100\n",
      "42000/42000 [==============================] - 5s 123us/sample - loss: 0.0674 - accuracy: 0.9800 - val_loss: 0.2967 - val_accuracy: 0.9480\n",
      "Epoch 77/100\n",
      "42000/42000 [==============================] - 5s 123us/sample - loss: 0.0536 - accuracy: 0.9852 - val_loss: 0.3149 - val_accuracy: 0.9429\n",
      "Epoch 78/100\n",
      "42000/42000 [==============================] - 5s 123us/sample - loss: 0.0615 - accuracy: 0.9826 - val_loss: 0.2975 - val_accuracy: 0.9496\n",
      "Epoch 79/100\n",
      "42000/42000 [==============================] - 5s 126us/sample - loss: 0.0602 - accuracy: 0.9827 - val_loss: 0.2990 - val_accuracy: 0.9485\n",
      "Epoch 80/100\n",
      "42000/42000 [==============================] - 5s 124us/sample - loss: 0.0536 - accuracy: 0.9855 - val_loss: 0.2958 - val_accuracy: 0.9506\n",
      "Epoch 81/100\n",
      "42000/42000 [==============================] - 5s 124us/sample - loss: 0.0519 - accuracy: 0.9858 - val_loss: 0.3094 - val_accuracy: 0.9474\n",
      "Epoch 82/100\n",
      "42000/42000 [==============================] - 5s 125us/sample - loss: 0.0591 - accuracy: 0.9829 - val_loss: 0.3222 - val_accuracy: 0.9443\n",
      "Epoch 83/100\n",
      "42000/42000 [==============================] - 5s 124us/sample - loss: 0.0574 - accuracy: 0.9830 - val_loss: 0.3079 - val_accuracy: 0.9477\n",
      "Epoch 84/100\n",
      "42000/42000 [==============================] - 5s 125us/sample - loss: 0.0555 - accuracy: 0.9844 - val_loss: 0.3094 - val_accuracy: 0.9491\n",
      "Epoch 85/100\n",
      "42000/42000 [==============================] - 5s 125us/sample - loss: 0.0556 - accuracy: 0.9844 - val_loss: 0.3182 - val_accuracy: 0.9455\n",
      "Epoch 86/100\n",
      "42000/42000 [==============================] - 5s 124us/sample - loss: 0.0499 - accuracy: 0.9861 - val_loss: 0.3246 - val_accuracy: 0.9468\n",
      "Epoch 87/100\n",
      "42000/42000 [==============================] - 6s 133us/sample - loss: 0.0471 - accuracy: 0.9870 - val_loss: 0.3139 - val_accuracy: 0.9488\n",
      "Epoch 88/100\n",
      "42000/42000 [==============================] - 5s 124us/sample - loss: 0.0442 - accuracy: 0.9878 - val_loss: 0.3138 - val_accuracy: 0.9500\n",
      "Epoch 89/100\n",
      "42000/42000 [==============================] - 5s 128us/sample - loss: 0.0421 - accuracy: 0.9884 - val_loss: 0.3042 - val_accuracy: 0.9521\n",
      "Epoch 90/100\n",
      "42000/42000 [==============================] - 5s 128us/sample - loss: 0.0418 - accuracy: 0.9890 - val_loss: 0.3364 - val_accuracy: 0.9454\n",
      "Epoch 91/100\n",
      "42000/42000 [==============================] - 5s 124us/sample - loss: 0.0447 - accuracy: 0.9872 - val_loss: 0.3207 - val_accuracy: 0.9497\n",
      "Epoch 92/100\n",
      "42000/42000 [==============================] - 5s 124us/sample - loss: 0.0432 - accuracy: 0.9885 - val_loss: 0.3311 - val_accuracy: 0.9464\n",
      "Epoch 93/100\n",
      "42000/42000 [==============================] - 5s 129us/sample - loss: 0.0490 - accuracy: 0.9860 - val_loss: 0.3443 - val_accuracy: 0.9439: 0.98 - ETA: 2s - loss:\n",
      "Epoch 94/100\n",
      "42000/42000 [==============================] - 5s 124us/sample - loss: 0.0587 - accuracy: 0.9820 - val_loss: 0.3467 - val_accuracy: 0.9440\n",
      "Epoch 95/100\n",
      "42000/42000 [==============================] - 5s 124us/sample - loss: 0.0474 - accuracy: 0.9863 - val_loss: 0.3225 - val_accuracy: 0.9484\n",
      "Epoch 96/100\n",
      "42000/42000 [==============================] - 5s 125us/sample - loss: 0.0425 - accuracy: 0.9879 - val_loss: 0.3162 - val_accuracy: 0.9513\n",
      "Epoch 97/100\n",
      "42000/42000 [==============================] - 5s 130us/sample - loss: 0.0433 - accuracy: 0.9878 - val_loss: 0.3363 - val_accuracy: 0.9467\n",
      "Epoch 98/100\n",
      "42000/42000 [==============================] - 5s 124us/sample - loss: 0.0423 - accuracy: 0.9878 - val_loss: 0.3478 - val_accuracy: 0.9446\n",
      "Epoch 99/100\n",
      "42000/42000 [==============================] - 5s 124us/sample - loss: 0.0397 - accuracy: 0.9892 - val_loss: 0.3208 - val_accuracy: 0.9519\n",
      "Epoch 100/100\n",
      "42000/42000 [==============================] - 5s 125us/sample - loss: 0.0396 - accuracy: 0.9893 - val_loss: 0.3478 - val_accuracy: 0.9463\n"
     ]
    },
    {
     "data": {
      "text/plain": [
       "<tensorflow.python.keras.callbacks.History at 0xc88b25f588>"
      ]
     },
     "execution_count": 86,
     "metadata": {},
     "output_type": "execute_result"
    }
   ],
   "source": [
    "model4.fit(X_train, y_train1, validation_data=(X_val, y_val),batch_size=300, epochs=100, verbose=1 )"
   ]
  },
  {
   "cell_type": "code",
   "execution_count": 87,
   "metadata": {},
   "outputs": [
    {
     "name": "stdout",
     "output_type": "stream",
     "text": [
      "Accuracy of NN with Adam Optimiser in Batch norm on Validation data is  [0.34776900749790174, 0.94631666]\n"
     ]
    }
   ],
   "source": [
    "accuracy3 = model4.evaluate(X_val, y_val, verbose=0)\n",
    "print(\"Accuracy of NN with Adam Optimiser in Batch norm on Validation data is \", accuracy3)"
   ]
  },
  {
   "cell_type": "code",
   "execution_count": 88,
   "metadata": {},
   "outputs": [
    {
     "data": {
      "text/html": [
       "<div>\n",
       "<style scoped>\n",
       "    .dataframe tbody tr th:only-of-type {\n",
       "        vertical-align: middle;\n",
       "    }\n",
       "\n",
       "    .dataframe tbody tr th {\n",
       "        vertical-align: top;\n",
       "    }\n",
       "\n",
       "    .dataframe thead th {\n",
       "        text-align: right;\n",
       "    }\n",
       "</style>\n",
       "<table border=\"1\" class=\"dataframe\">\n",
       "  <thead>\n",
       "    <tr style=\"text-align: right;\">\n",
       "      <th></th>\n",
       "      <th>Method</th>\n",
       "      <th>Accuracy</th>\n",
       "    </tr>\n",
       "  </thead>\n",
       "  <tbody>\n",
       "    <tr>\n",
       "      <th>1</th>\n",
       "      <td>NN with Adam &amp; RELU</td>\n",
       "      <td>0.878850</td>\n",
       "    </tr>\n",
       "    <tr>\n",
       "      <th>2</th>\n",
       "      <td>NN with SGD &amp; RELU</td>\n",
       "      <td>0.249833</td>\n",
       "    </tr>\n",
       "    <tr>\n",
       "      <th>3</th>\n",
       "      <td>NN with adam &amp; sigmoid</td>\n",
       "      <td>0.253050</td>\n",
       "    </tr>\n",
       "    <tr>\n",
       "      <th>4</th>\n",
       "      <td>NN with Adam in Batch Norm(RELU)</td>\n",
       "      <td>0.946317</td>\n",
       "    </tr>\n",
       "  </tbody>\n",
       "</table>\n",
       "</div>"
      ],
      "text/plain": [
       "                             Method  Accuracy\n",
       "1               NN with Adam & RELU  0.878850\n",
       "2                NN with SGD & RELU  0.249833\n",
       "3            NN with adam & sigmoid  0.253050\n",
       "4  NN with Adam in Batch Norm(RELU)  0.946317"
      ]
     },
     "execution_count": 88,
     "metadata": {},
     "output_type": "execute_result"
    }
   ],
   "source": [
    "# All Accuracy of model need to compile for further analysis and conclusion\n",
    "accuracy_of_val3 = pd.DataFrame({'Method':['NN with Adam in Batch Norm(RELU)'], 'Accuracy': accuracy3[1]},index={'4'})\n",
    "accuracy_of_val =pd.concat([accuracy_of_val,accuracy_of_val3])\n",
    "accuracy_of_val = accuracy_of_val[['Method', 'Accuracy']]\n",
    "accuracy_of_val"
   ]
  },
  {
   "cell_type": "markdown",
   "metadata": {},
   "source": [
    "#### By seeing above accuracy level of Models, Adam Optimiser with RELU has seen better accuracy level than SGD with RELU and Adam with Sigmoid"
   ]
  },
  {
   "cell_type": "markdown",
   "metadata": {},
   "source": [
    "#### In next step, RELU with Adam optimiser in with Leraning Rate = 0.0001 and adding drop out step in the NN."
   ]
  },
  {
   "cell_type": "markdown",
   "metadata": {},
   "source": [
    "#### Optimizer: 'adam'\n",
    "#### Activation: 'relu'\n",
    "#### Learning Rate: 0.0001\n",
    "#### Batch Norm and Drop Out"
   ]
  },
  {
   "cell_type": "code",
   "execution_count": 89,
   "metadata": {},
   "outputs": [],
   "source": [
    "model5 = tf.keras.models.Sequential()\n",
    "\n",
    "# Reshape data from 2D to 1D -> 32x32 to 1024\n",
    "model5.add(tf.keras.layers.Reshape((1024,),input_shape=(32,32,)))\n",
    "\n",
    "# Normalize the data\n",
    "model5.add(tf.keras.layers.BatchNormalization())"
   ]
  },
  {
   "cell_type": "code",
   "execution_count": 90,
   "metadata": {},
   "outputs": [],
   "source": [
    "model5.add(tf.keras.layers.Dense(512, activation='relu', name='input'))\n",
    "\n",
    "# Hidden layers\n",
    "model5.add(tf.keras.layers.Dense(256, activation='relu', name='Layer_1'))\n",
    "model5.add(tf.keras.layers.Dense(128, activation='relu', name='Layer_2'))\n",
    "\n",
    "# Dropout layer\n",
    "model5.add(tf.keras.layers.Dropout(0.5))\n",
    "\n",
    "\n",
    "# Hidden layers\n",
    "model5.add(tf.keras.layers.Dense(64, activation='relu', name='Layer_3'))\n",
    "model5.add(tf.keras.layers.Dense(32, activation='relu', name='Layer_4'))\n",
    "# Dropout layer\n",
    "model5.add(tf.keras.layers.Dropout(0.5))\n",
    "\n",
    "#Output layer\n",
    "model5.add(tf.keras.layers.Dense(10, activation='softmax', name='Output'))"
   ]
  },
  {
   "cell_type": "code",
   "execution_count": 91,
   "metadata": {},
   "outputs": [],
   "source": [
    "# Adam Optimiser with Lr= 0.0001\n",
    "model5.compile(optimizer=adam_optimiser2, loss='categorical_crossentropy', metrics=['accuracy']) "
   ]
  },
  {
   "cell_type": "code",
   "execution_count": 92,
   "metadata": {},
   "outputs": [
    {
     "name": "stdout",
     "output_type": "stream",
     "text": [
      "Train on 42000 samples, validate on 60000 samples\n",
      "Epoch 1/100\n",
      "42000/42000 [==============================] - 6s 152us/sample - loss: 2.2884 - accuracy: 0.1311 - val_loss: 2.1461 - val_accuracy: 0.2961\n",
      "Epoch 2/100\n",
      "42000/42000 [==============================] - 5s 127us/sample - loss: 2.0207 - accuracy: 0.2667 - val_loss: 1.6583 - val_accuracy: 0.4751\n",
      "Epoch 3/100\n",
      "42000/42000 [==============================] - 6s 131us/sample - loss: 1.7449 - accuracy: 0.3810 - val_loss: 1.3612 - val_accuracy: 0.5960\n",
      "Epoch 4/100\n",
      "42000/42000 [==============================] - 6s 150us/sample - loss: 1.5456 - accuracy: 0.4677 - val_loss: 1.1762 - val_accuracy: 0.6557\n",
      "Epoch 5/100\n",
      "42000/42000 [==============================] - 6s 148us/sample - loss: 1.4068 - accuracy: 0.5257 - val_loss: 1.0355 - val_accuracy: 0.6996\n",
      "Epoch 6/100\n",
      "42000/42000 [==============================] - 6s 143us/sample - loss: 1.2910 - accuracy: 0.5704 - val_loss: 0.9367 - val_accuracy: 0.7375\n",
      "Epoch 7/100\n",
      "42000/42000 [==============================] - 5s 130us/sample - loss: 1.1893 - accuracy: 0.6131 - val_loss: 0.8392 - val_accuracy: 0.7599\n",
      "Epoch 8/100\n",
      "42000/42000 [==============================] - 5s 125us/sample - loss: 1.1154 - accuracy: 0.6427 - val_loss: 0.7852 - val_accuracy: 0.7738\n",
      "Epoch 9/100\n",
      "42000/42000 [==============================] - 5s 125us/sample - loss: 1.0475 - accuracy: 0.6704 - val_loss: 0.7457 - val_accuracy: 0.7875\n",
      "Epoch 10/100\n",
      "42000/42000 [==============================] - 5s 126us/sample - loss: 0.9918 - accuracy: 0.6911 - val_loss: 0.7020 - val_accuracy: 0.7964\n",
      "Epoch 11/100\n",
      "42000/42000 [==============================] - 5s 126us/sample - loss: 0.9575 - accuracy: 0.7022 - val_loss: 0.6699 - val_accuracy: 0.8048\n",
      "Epoch 12/100\n",
      "42000/42000 [==============================] - 5s 125us/sample - loss: 0.9132 - accuracy: 0.7180 - val_loss: 0.6417 - val_accuracy: 0.8127\n",
      "Epoch 13/100\n",
      "42000/42000 [==============================] - 5s 125us/sample - loss: 0.8762 - accuracy: 0.7322 - val_loss: 0.6295 - val_accuracy: 0.8148\n",
      "Epoch 14/100\n",
      "42000/42000 [==============================] - 6s 140us/sample - loss: 0.8516 - accuracy: 0.7405 - val_loss: 0.5974 - val_accuracy: 0.8282\n",
      "Epoch 15/100\n",
      "42000/42000 [==============================] - 5s 130us/sample - loss: 0.8240 - accuracy: 0.7511 - val_loss: 0.5909 - val_accuracy: 0.8277\n",
      "Epoch 16/100\n",
      "42000/42000 [==============================] - 5s 124us/sample - loss: 0.7985 - accuracy: 0.7571 - val_loss: 0.5629 - val_accuracy: 0.8350\n",
      "Epoch 17/100\n",
      "42000/42000 [==============================] - 5s 126us/sample - loss: 0.7813 - accuracy: 0.7655 - val_loss: 0.5579 - val_accuracy: 0.8359\n",
      "Epoch 18/100\n",
      "42000/42000 [==============================] - 5s 129us/sample - loss: 0.7558 - accuracy: 0.7731 - val_loss: 0.5489 - val_accuracy: 0.8406\n",
      "Epoch 19/100\n",
      "42000/42000 [==============================] - 5s 126us/sample - loss: 0.7375 - accuracy: 0.7805 - val_loss: 0.5310 - val_accuracy: 0.8451\n",
      "Epoch 20/100\n",
      "42000/42000 [==============================] - 5s 128us/sample - loss: 0.7133 - accuracy: 0.7870 - val_loss: 0.5203 - val_accuracy: 0.8478\n",
      "Epoch 21/100\n",
      "42000/42000 [==============================] - 5s 127us/sample - loss: 0.7061 - accuracy: 0.7895 - val_loss: 0.5150 - val_accuracy: 0.8474\n",
      "Epoch 22/100\n",
      "42000/42000 [==============================] - 5s 130us/sample - loss: 0.6901 - accuracy: 0.7941 - val_loss: 0.4911 - val_accuracy: 0.8586\n",
      "Epoch 23/100\n",
      "42000/42000 [==============================] - 5s 126us/sample - loss: 0.6816 - accuracy: 0.7990 - val_loss: 0.4949 - val_accuracy: 0.8565\n",
      "Epoch 24/100\n",
      "42000/42000 [==============================] - 5s 126us/sample - loss: 0.6640 - accuracy: 0.8023 - val_loss: 0.4793 - val_accuracy: 0.8628\n",
      "Epoch 25/100\n",
      "42000/42000 [==============================] - 5s 126us/sample - loss: 0.6513 - accuracy: 0.8055 - val_loss: 0.4757 - val_accuracy: 0.8620\n",
      "Epoch 26/100\n",
      "42000/42000 [==============================] - 5s 126us/sample - loss: 0.6356 - accuracy: 0.8124 - val_loss: 0.4665 - val_accuracy: 0.8660\n",
      "Epoch 27/100\n",
      "42000/42000 [==============================] - 5s 126us/sample - loss: 0.6220 - accuracy: 0.8165 - val_loss: 0.4533 - val_accuracy: 0.8706\n",
      "Epoch 28/100\n",
      "42000/42000 [==============================] - 6s 132us/sample - loss: 0.6061 - accuracy: 0.8224 - val_loss: 0.4420 - val_accuracy: 0.8738\n",
      "Epoch 29/100\n",
      "42000/42000 [==============================] - 5s 125us/sample - loss: 0.6008 - accuracy: 0.8221 - val_loss: 0.4437 - val_accuracy: 0.8717\n",
      "Epoch 30/100\n",
      "42000/42000 [==============================] - 5s 125us/sample - loss: 0.5869 - accuracy: 0.8283 - val_loss: 0.4574 - val_accuracy: 0.8678\n",
      "Epoch 31/100\n",
      "42000/42000 [==============================] - 5s 130us/sample - loss: 0.5777 - accuracy: 0.8305 - val_loss: 0.4291 - val_accuracy: 0.8767\n",
      "Epoch 32/100\n",
      "42000/42000 [==============================] - 5s 126us/sample - loss: 0.5686 - accuracy: 0.8327 - val_loss: 0.4192 - val_accuracy: 0.8792\n",
      "Epoch 33/100\n",
      "42000/42000 [==============================] - 5s 126us/sample - loss: 0.5601 - accuracy: 0.8361 - val_loss: 0.4215 - val_accuracy: 0.8787\n",
      "Epoch 34/100\n",
      "42000/42000 [==============================] - 5s 127us/sample - loss: 0.5470 - accuracy: 0.8394 - val_loss: 0.4070 - val_accuracy: 0.8845\n",
      "Epoch 35/100\n",
      "42000/42000 [==============================] - 5s 126us/sample - loss: 0.5441 - accuracy: 0.8411 - val_loss: 0.4096 - val_accuracy: 0.8836\n",
      "Epoch 36/100\n",
      "42000/42000 [==============================] - 5s 125us/sample - loss: 0.5347 - accuracy: 0.8443 - val_loss: 0.4073 - val_accuracy: 0.8846\n",
      "Epoch 37/100\n",
      "42000/42000 [==============================] - 5s 130us/sample - loss: 0.5235 - accuracy: 0.8480 - val_loss: 0.3986 - val_accuracy: 0.8851\n",
      "Epoch 38/100\n",
      "42000/42000 [==============================] - 6s 136us/sample - loss: 0.5102 - accuracy: 0.8515 - val_loss: 0.3978 - val_accuracy: 0.8871\n",
      "Epoch 39/100\n",
      "42000/42000 [==============================] - 5s 127us/sample - loss: 0.5060 - accuracy: 0.8516 - val_loss: 0.3901 - val_accuracy: 0.8896\n",
      "Epoch 40/100\n",
      "42000/42000 [==============================] - 5s 126us/sample - loss: 0.5026 - accuracy: 0.8526 - val_loss: 0.3796 - val_accuracy: 0.8928\n",
      "Epoch 41/100\n",
      "42000/42000 [==============================] - 5s 127us/sample - loss: 0.4934 - accuracy: 0.8558 - val_loss: 0.3969 - val_accuracy: 0.8865\n",
      "Epoch 42/100\n",
      "42000/42000 [==============================] - 5s 126us/sample - loss: 0.5017 - accuracy: 0.8543 - val_loss: 0.3805 - val_accuracy: 0.8932\n",
      "Epoch 43/100\n",
      "42000/42000 [==============================] - 5s 130us/sample - loss: 0.4852 - accuracy: 0.8585 - val_loss: 0.3791 - val_accuracy: 0.8929\n",
      "Epoch 44/100\n",
      "42000/42000 [==============================] - 5s 127us/sample - loss: 0.4693 - accuracy: 0.8631 - val_loss: 0.3893 - val_accuracy: 0.8905\n",
      "Epoch 45/100\n",
      "42000/42000 [==============================] - 5s 127us/sample - loss: 0.4706 - accuracy: 0.8630 - val_loss: 0.3664 - val_accuracy: 0.8972\n",
      "Epoch 46/100\n",
      "42000/42000 [==============================] - 6s 132us/sample - loss: 0.4612 - accuracy: 0.8658 - val_loss: 0.3718 - val_accuracy: 0.8962\n",
      "Epoch 47/100\n",
      "42000/42000 [==============================] - 6s 131us/sample - loss: 0.4521 - accuracy: 0.8685 - val_loss: 0.3591 - val_accuracy: 0.9001\n",
      "Epoch 48/100\n",
      "42000/42000 [==============================] - 6s 132us/sample - loss: 0.4442 - accuracy: 0.8694 - val_loss: 0.3612 - val_accuracy: 0.9008\n",
      "Epoch 49/100\n",
      "42000/42000 [==============================] - 5s 129us/sample - loss: 0.4440 - accuracy: 0.8704 - val_loss: 0.3563 - val_accuracy: 0.9015\n",
      "Epoch 50/100\n",
      "42000/42000 [==============================] - 5s 126us/sample - loss: 0.4355 - accuracy: 0.8710 - val_loss: 0.3610 - val_accuracy: 0.9003\n",
      "Epoch 51/100\n",
      "42000/42000 [==============================] - 5s 127us/sample - loss: 0.4273 - accuracy: 0.8735 - val_loss: 0.3553 - val_accuracy: 0.9032\n",
      "Epoch 52/100\n",
      "42000/42000 [==============================] - 5s 127us/sample - loss: 0.4289 - accuracy: 0.8729 - val_loss: 0.3432 - val_accuracy: 0.9062\n",
      "Epoch 53/100\n",
      "42000/42000 [==============================] - 6s 134us/sample - loss: 0.4146 - accuracy: 0.8791 - val_loss: 0.3400 - val_accuracy: 0.9077\n",
      "Epoch 54/100\n"
     ]
    },
    {
     "name": "stdout",
     "output_type": "stream",
     "text": [
      "42000/42000 [==============================] - 5s 122us/sample - loss: 0.4159 - accuracy: 0.8771 - val_loss: 0.3679 - val_accuracy: 0.8979\n",
      "Epoch 55/100\n",
      "42000/42000 [==============================] - 5s 122us/sample - loss: 0.4096 - accuracy: 0.8814 - val_loss: 0.3404 - val_accuracy: 0.9073\n",
      "Epoch 56/100\n",
      "42000/42000 [==============================] - 5s 123us/sample - loss: 0.4014 - accuracy: 0.8822 - val_loss: 0.3412 - val_accuracy: 0.9073\n",
      "Epoch 57/100\n",
      "42000/42000 [==============================] - 5s 123us/sample - loss: 0.3965 - accuracy: 0.8852 - val_loss: 0.3419 - val_accuracy: 0.9084\n",
      "Epoch 58/100\n",
      "42000/42000 [==============================] - 5s 123us/sample - loss: 0.3951 - accuracy: 0.8846 - val_loss: 0.3451 - val_accuracy: 0.9063\n",
      "Epoch 59/100\n",
      "42000/42000 [==============================] - 5s 123us/sample - loss: 0.3968 - accuracy: 0.8856 - val_loss: 0.3348 - val_accuracy: 0.9098\n",
      "Epoch 60/100\n",
      "42000/42000 [==============================] - 5s 123us/sample - loss: 0.3813 - accuracy: 0.8883 - val_loss: 0.3539 - val_accuracy: 0.9058\n",
      "Epoch 61/100\n",
      "42000/42000 [==============================] - 5s 123us/sample - loss: 0.3853 - accuracy: 0.8866 - val_loss: 0.3367 - val_accuracy: 0.9091\n",
      "Epoch 62/100\n",
      "42000/42000 [==============================] - 5s 123us/sample - loss: 0.3748 - accuracy: 0.8893 - val_loss: 0.3301 - val_accuracy: 0.9113\n",
      "Epoch 63/100\n",
      "42000/42000 [==============================] - 6s 131us/sample - loss: 0.3670 - accuracy: 0.8911 - val_loss: 0.3228 - val_accuracy: 0.9152\n",
      "Epoch 64/100\n",
      "42000/42000 [==============================] - 5s 126us/sample - loss: 0.3598 - accuracy: 0.8935 - val_loss: 0.3295 - val_accuracy: 0.9126\n",
      "Epoch 65/100\n",
      "42000/42000 [==============================] - 5s 127us/sample - loss: 0.3679 - accuracy: 0.8913 - val_loss: 0.3244 - val_accuracy: 0.9147\n",
      "Epoch 66/100\n",
      "42000/42000 [==============================] - 5s 127us/sample - loss: 0.3674 - accuracy: 0.8935 - val_loss: 0.3352 - val_accuracy: 0.9104\n",
      "Epoch 67/100\n",
      "42000/42000 [==============================] - 5s 125us/sample - loss: 0.3667 - accuracy: 0.8921 - val_loss: 0.3169 - val_accuracy: 0.9177\n",
      "Epoch 68/100\n",
      "42000/42000 [==============================] - 5s 126us/sample - loss: 0.3575 - accuracy: 0.8963 - val_loss: 0.3287 - val_accuracy: 0.9151\n",
      "Epoch 69/100\n",
      "42000/42000 [==============================] - 5s 128us/sample - loss: 0.3551 - accuracy: 0.8964 - val_loss: 0.3142 - val_accuracy: 0.9184\n",
      "Epoch 70/100\n",
      "42000/42000 [==============================] - 5s 125us/sample - loss: 0.3419 - accuracy: 0.8996 - val_loss: 0.3170 - val_accuracy: 0.9173\n",
      "Epoch 71/100\n",
      "42000/42000 [==============================] - 5s 125us/sample - loss: 0.3370 - accuracy: 0.9005 - val_loss: 0.3195 - val_accuracy: 0.9169\n",
      "Epoch 72/100\n",
      "42000/42000 [==============================] - 5s 125us/sample - loss: 0.3331 - accuracy: 0.9029 - val_loss: 0.3230 - val_accuracy: 0.9162\n",
      "Epoch 73/100\n",
      "42000/42000 [==============================] - 5s 126us/sample - loss: 0.3362 - accuracy: 0.9000 - val_loss: 0.3160 - val_accuracy: 0.9193\n",
      "Epoch 74/100\n",
      "42000/42000 [==============================] - 5s 125us/sample - loss: 0.3447 - accuracy: 0.8970 - val_loss: 0.3305 - val_accuracy: 0.9150\n",
      "Epoch 75/100\n",
      "42000/42000 [==============================] - 5s 126us/sample - loss: 0.3301 - accuracy: 0.9029 - val_loss: 0.3177 - val_accuracy: 0.9194\n",
      "Epoch 76/100\n",
      "42000/42000 [==============================] - 5s 126us/sample - loss: 0.3206 - accuracy: 0.9053 - val_loss: 0.3039 - val_accuracy: 0.9233\n",
      "Epoch 77/100\n",
      "42000/42000 [==============================] - 5s 127us/sample - loss: 0.3282 - accuracy: 0.9033 - val_loss: 0.3190 - val_accuracy: 0.9186\n",
      "Epoch 78/100\n",
      "42000/42000 [==============================] - 5s 125us/sample - loss: 0.3164 - accuracy: 0.9061 - val_loss: 0.3098 - val_accuracy: 0.9222\n",
      "Epoch 79/100\n",
      "42000/42000 [==============================] - 5s 126us/sample - loss: 0.3144 - accuracy: 0.9065 - val_loss: 0.3001 - val_accuracy: 0.9262\n",
      "Epoch 80/100\n",
      "42000/42000 [==============================] - 5s 127us/sample - loss: 0.3137 - accuracy: 0.9073 - val_loss: 0.3082 - val_accuracy: 0.9230\n",
      "Epoch 81/100\n",
      "42000/42000 [==============================] - 5s 128us/sample - loss: 0.3157 - accuracy: 0.9082 - val_loss: 0.3201 - val_accuracy: 0.9198\n",
      "Epoch 82/100\n",
      "42000/42000 [==============================] - 5s 126us/sample - loss: 0.3112 - accuracy: 0.9085 - val_loss: 0.2989 - val_accuracy: 0.9260\n",
      "Epoch 83/100\n",
      "42000/42000 [==============================] - 5s 126us/sample - loss: 0.3097 - accuracy: 0.9099 - val_loss: 0.3057 - val_accuracy: 0.9255\n",
      "Epoch 84/100\n",
      "42000/42000 [==============================] - 5s 127us/sample - loss: 0.3096 - accuracy: 0.9097 - val_loss: 0.3329 - val_accuracy: 0.9192\n",
      "Epoch 85/100\n",
      "42000/42000 [==============================] - 5s 129us/sample - loss: 0.3037 - accuracy: 0.9115 - val_loss: 0.3131 - val_accuracy: 0.9230\n",
      "Epoch 86/100\n",
      "42000/42000 [==============================] - 5s 126us/sample - loss: 0.2976 - accuracy: 0.9125 - val_loss: 0.3135 - val_accuracy: 0.9232\n",
      "Epoch 87/100\n",
      "42000/42000 [==============================] - 5s 126us/sample - loss: 0.3017 - accuracy: 0.9104 - val_loss: 0.3179 - val_accuracy: 0.9225\n",
      "Epoch 88/100\n",
      "42000/42000 [==============================] - 6s 131us/sample - loss: 0.2953 - accuracy: 0.9134 - val_loss: 0.3072 - val_accuracy: 0.9251\n",
      "Epoch 89/100\n",
      "42000/42000 [==============================] - 5s 128us/sample - loss: 0.2875 - accuracy: 0.9157 - val_loss: 0.3112 - val_accuracy: 0.9260\n",
      "Epoch 90/100\n",
      "42000/42000 [==============================] - 5s 128us/sample - loss: 0.2865 - accuracy: 0.9167 - val_loss: 0.3032 - val_accuracy: 0.9270\n",
      "Epoch 91/100\n",
      "42000/42000 [==============================] - 5s 127us/sample - loss: 0.2913 - accuracy: 0.9151 - val_loss: 0.2963 - val_accuracy: 0.9289\n",
      "Epoch 92/100\n",
      "42000/42000 [==============================] - 5s 127us/sample - loss: 0.2795 - accuracy: 0.9166 - val_loss: 0.3060 - val_accuracy: 0.9269\n",
      "Epoch 93/100\n",
      "42000/42000 [==============================] - 5s 127us/sample - loss: 0.2828 - accuracy: 0.9162 - val_loss: 0.3049 - val_accuracy: 0.9280\n",
      "Epoch 94/100\n",
      "42000/42000 [==============================] - 5s 127us/sample - loss: 0.2768 - accuracy: 0.9198 - val_loss: 0.3006 - val_accuracy: 0.9296\n",
      "Epoch 95/100\n",
      "42000/42000 [==============================] - 5s 126us/sample - loss: 0.2783 - accuracy: 0.9170 - val_loss: 0.3086 - val_accuracy: 0.9291\n",
      "Epoch 96/100\n",
      "42000/42000 [==============================] - 6s 135us/sample - loss: 0.2689 - accuracy: 0.9202 - val_loss: 0.2997 - val_accuracy: 0.9311\n",
      "Epoch 97/100\n",
      "42000/42000 [==============================] - 6s 132us/sample - loss: 0.2765 - accuracy: 0.9205 - val_loss: 0.3102 - val_accuracy: 0.9275\n",
      "Epoch 98/100\n",
      "42000/42000 [==============================] - 6s 144us/sample - loss: 0.2692 - accuracy: 0.9209 - val_loss: 0.3102 - val_accuracy: 0.9294\n",
      "Epoch 99/100\n",
      "42000/42000 [==============================] - 6s 132us/sample - loss: 0.2704 - accuracy: 0.9201 - val_loss: 0.3056 - val_accuracy: 0.9306\n",
      "Epoch 100/100\n",
      "42000/42000 [==============================] - 6s 134us/sample - loss: 0.2700 - accuracy: 0.9202 - val_loss: 0.3123 - val_accuracy: 0.9279\n"
     ]
    },
    {
     "data": {
      "text/plain": [
       "<tensorflow.python.keras.callbacks.History at 0xc88b213a48>"
      ]
     },
     "execution_count": 92,
     "metadata": {},
     "output_type": "execute_result"
    }
   ],
   "source": [
    "model5.fit(X_train, y_train1, validation_data=(X_val, y_val),batch_size=300, epochs=100, verbose=1 )"
   ]
  },
  {
   "cell_type": "code",
   "execution_count": 93,
   "metadata": {},
   "outputs": [
    {
     "name": "stdout",
     "output_type": "stream",
     "text": [
      "Accuracy of NN with Adam Optimiser in Batch norm with Drop out on Validation data is  [0.3123038103614633, 0.9279]\n"
     ]
    }
   ],
   "source": [
    "accuracy4 = model5.evaluate(X_val, y_val, verbose=0)\n",
    "print(\"Accuracy of NN with Adam Optimiser in Batch norm with Drop out on Validation data is \", accuracy4)"
   ]
  },
  {
   "cell_type": "code",
   "execution_count": 94,
   "metadata": {},
   "outputs": [
    {
     "data": {
      "text/html": [
       "<div>\n",
       "<style scoped>\n",
       "    .dataframe tbody tr th:only-of-type {\n",
       "        vertical-align: middle;\n",
       "    }\n",
       "\n",
       "    .dataframe tbody tr th {\n",
       "        vertical-align: top;\n",
       "    }\n",
       "\n",
       "    .dataframe thead th {\n",
       "        text-align: right;\n",
       "    }\n",
       "</style>\n",
       "<table border=\"1\" class=\"dataframe\">\n",
       "  <thead>\n",
       "    <tr style=\"text-align: right;\">\n",
       "      <th></th>\n",
       "      <th>Method</th>\n",
       "      <th>Accuracy</th>\n",
       "    </tr>\n",
       "  </thead>\n",
       "  <tbody>\n",
       "    <tr>\n",
       "      <th>1</th>\n",
       "      <td>NN with Adam &amp; RELU</td>\n",
       "      <td>0.878850</td>\n",
       "    </tr>\n",
       "    <tr>\n",
       "      <th>2</th>\n",
       "      <td>NN with SGD &amp; RELU</td>\n",
       "      <td>0.249833</td>\n",
       "    </tr>\n",
       "    <tr>\n",
       "      <th>3</th>\n",
       "      <td>NN with adam &amp; sigmoid</td>\n",
       "      <td>0.253050</td>\n",
       "    </tr>\n",
       "    <tr>\n",
       "      <th>4</th>\n",
       "      <td>NN with Adam in Batch Norm(RELU)</td>\n",
       "      <td>0.946317</td>\n",
       "    </tr>\n",
       "    <tr>\n",
       "      <th>5</th>\n",
       "      <td>NN with Adam in Batch Norm &amp; dropout(RELU)</td>\n",
       "      <td>0.927900</td>\n",
       "    </tr>\n",
       "  </tbody>\n",
       "</table>\n",
       "</div>"
      ],
      "text/plain": [
       "                                       Method  Accuracy\n",
       "1                         NN with Adam & RELU  0.878850\n",
       "2                          NN with SGD & RELU  0.249833\n",
       "3                      NN with adam & sigmoid  0.253050\n",
       "4            NN with Adam in Batch Norm(RELU)  0.946317\n",
       "5  NN with Adam in Batch Norm & dropout(RELU)  0.927900"
      ]
     },
     "execution_count": 94,
     "metadata": {},
     "output_type": "execute_result"
    }
   ],
   "source": [
    "# All Accuracy of model need to compile for further analysis and conclusion\n",
    "accuracy_of_val4 = pd.DataFrame({'Method':['NN with Adam in Batch Norm & dropout(RELU)'], 'Accuracy': accuracy4[1]},index={'5'})\n",
    "accuracy_of_val =pd.concat([accuracy_of_val,accuracy_of_val4])\n",
    "accuracy_of_val = accuracy_of_val[['Method', 'Accuracy']]\n",
    "accuracy_of_val"
   ]
  },
  {
   "cell_type": "markdown",
   "metadata": {},
   "source": [
    "### Evaluating NN  on Test Data"
   ]
  },
  {
   "cell_type": "code",
   "execution_count": 95,
   "metadata": {},
   "outputs": [],
   "source": [
    "model6 = tf.keras.models.Sequential()\n",
    "\n",
    "# Reshape data from 2D to 1D -> 32x32 to 1024\n",
    "model6.add(tf.keras.layers.Reshape((1024,),input_shape=(32,32,)))\n",
    "\n",
    "# Normalize the data\n",
    "model6.add(tf.keras.layers.BatchNormalization())"
   ]
  },
  {
   "cell_type": "code",
   "execution_count": 96,
   "metadata": {},
   "outputs": [],
   "source": [
    "model6.add(tf.keras.layers.Dense(512, activation='relu', name='input'))\n",
    "\n",
    "# Hidden layers\n",
    "model6.add(tf.keras.layers.Dense(256, activation='relu', name='Layer_1'))\n",
    "model6.add(tf.keras.layers.Dense(128, activation='relu', name='Layer_2'))\n",
    "\n",
    "# Dropout layer\n",
    "model6.add(tf.keras.layers.Dropout(0.5))\n",
    "\n",
    "\n",
    "# Hidden layers\n",
    "model6.add(tf.keras.layers.Dense(64, activation='relu', name='Layer_3'))\n",
    "model6.add(tf.keras.layers.Dense(32, activation='relu', name='Layer_4'))\n",
    "# Dropout layer\n",
    "model6.add(tf.keras.layers.Dropout(0.5))\n",
    "\n",
    "#Output layer\n",
    "model6.add(tf.keras.layers.Dense(10, activation='softmax', name='Output'))"
   ]
  },
  {
   "cell_type": "code",
   "execution_count": 97,
   "metadata": {},
   "outputs": [],
   "source": [
    "# Adam Optimiser with Lr= 0.0001\n",
    "model6.compile(optimizer=adam_optimiser2, loss='categorical_crossentropy', metrics=['accuracy']) "
   ]
  },
  {
   "cell_type": "code",
   "execution_count": 98,
   "metadata": {},
   "outputs": [
    {
     "name": "stdout",
     "output_type": "stream",
     "text": [
      "Train on 42000 samples, validate on 18000 samples\n",
      "Epoch 1/100\n",
      "42000/42000 [==============================] - 5s 117us/sample - loss: 2.2964 - accuracy: 0.1272 - val_loss: 2.1933 - val_accuracy: 0.2492\n",
      "Epoch 2/100\n",
      "42000/42000 [==============================] - 5s 107us/sample - loss: 2.0698 - accuracy: 0.2404 - val_loss: 1.6843 - val_accuracy: 0.4834\n",
      "Epoch 3/100\n",
      "42000/42000 [==============================] - 4s 104us/sample - loss: 1.7527 - accuracy: 0.3756 - val_loss: 1.3340 - val_accuracy: 0.5953\n",
      "Epoch 4/100\n",
      "42000/42000 [==============================] - 4s 98us/sample - loss: 1.5342 - accuracy: 0.4670 - val_loss: 1.1707 - val_accuracy: 0.6447\n",
      "Epoch 5/100\n",
      "42000/42000 [==============================] - 4s 97us/sample - loss: 1.3985 - accuracy: 0.5226 - val_loss: 1.0648 - val_accuracy: 0.6792\n",
      "Epoch 6/100\n",
      "42000/42000 [==============================] - 4s 97us/sample - loss: 1.2942 - accuracy: 0.5629 - val_loss: 0.9800 - val_accuracy: 0.7002\n",
      "Epoch 7/100\n",
      "42000/42000 [==============================] - 4s 97us/sample - loss: 1.2138 - accuracy: 0.5954 - val_loss: 0.9205 - val_accuracy: 0.7257\n",
      "Epoch 8/100\n",
      "42000/42000 [==============================] - 4s 97us/sample - loss: 1.1519 - accuracy: 0.6195 - val_loss: 0.8803 - val_accuracy: 0.7380\n",
      "Epoch 9/100\n",
      "42000/42000 [==============================] - 4s 101us/sample - loss: 1.0938 - accuracy: 0.6385 - val_loss: 0.8445 - val_accuracy: 0.7507\n",
      "Epoch 10/100\n",
      "42000/42000 [==============================] - 4s 101us/sample - loss: 1.0474 - accuracy: 0.6584 - val_loss: 0.8182 - val_accuracy: 0.7614\n",
      "Epoch 11/100\n",
      "42000/42000 [==============================] - 4s 101us/sample - loss: 0.9983 - accuracy: 0.6734 - val_loss: 0.7859 - val_accuracy: 0.7703\n",
      "Epoch 12/100\n",
      "42000/42000 [==============================] - 4s 101us/sample - loss: 0.9632 - accuracy: 0.6873 - val_loss: 0.7702 - val_accuracy: 0.7777\n",
      "Epoch 13/100\n",
      "42000/42000 [==============================] - 4s 101us/sample - loss: 0.9313 - accuracy: 0.7050 - val_loss: 0.7351 - val_accuracy: 0.7894\n",
      "Epoch 14/100\n",
      "42000/42000 [==============================] - 4s 101us/sample - loss: 0.9001 - accuracy: 0.7139 - val_loss: 0.7335 - val_accuracy: 0.7868\n",
      "Epoch 15/100\n",
      "42000/42000 [==============================] - 4s 101us/sample - loss: 0.8721 - accuracy: 0.7276 - val_loss: 0.7052 - val_accuracy: 0.7968\n",
      "Epoch 16/100\n",
      "42000/42000 [==============================] - 4s 101us/sample - loss: 0.8459 - accuracy: 0.7374 - val_loss: 0.6895 - val_accuracy: 0.8014\n",
      "Epoch 17/100\n",
      "42000/42000 [==============================] - 4s 101us/sample - loss: 0.8127 - accuracy: 0.7497 - val_loss: 0.6844 - val_accuracy: 0.8018\n",
      "Epoch 18/100\n",
      "42000/42000 [==============================] - 4s 102us/sample - loss: 0.7905 - accuracy: 0.7570 - val_loss: 0.6596 - val_accuracy: 0.8096\n",
      "Epoch 19/100\n",
      "42000/42000 [==============================] - 4s 101us/sample - loss: 0.7765 - accuracy: 0.7624 - val_loss: 0.6515 - val_accuracy: 0.8096\n",
      "Epoch 20/100\n",
      "42000/42000 [==============================] - 5s 109us/sample - loss: 0.7538 - accuracy: 0.7690 - val_loss: 0.6448 - val_accuracy: 0.8129\n",
      "Epoch 21/100\n",
      "42000/42000 [==============================] - 4s 102us/sample - loss: 0.7354 - accuracy: 0.7756 - val_loss: 0.6495 - val_accuracy: 0.8103\n",
      "Epoch 22/100\n",
      "42000/42000 [==============================] - 4s 103us/sample - loss: 0.7158 - accuracy: 0.7827 - val_loss: 0.6215 - val_accuracy: 0.8185\n",
      "Epoch 23/100\n",
      "42000/42000 [==============================] - 4s 102us/sample - loss: 0.6995 - accuracy: 0.7897 - val_loss: 0.6224 - val_accuracy: 0.8187\n",
      "Epoch 24/100\n",
      "42000/42000 [==============================] - 4s 102us/sample - loss: 0.6768 - accuracy: 0.7955 - val_loss: 0.6103 - val_accuracy: 0.8248\n",
      "Epoch 25/100\n",
      "42000/42000 [==============================] - 4s 104us/sample - loss: 0.6745 - accuracy: 0.7954 - val_loss: 0.6061 - val_accuracy: 0.8236\n",
      "Epoch 26/100\n",
      "42000/42000 [==============================] - 4s 103us/sample - loss: 0.6531 - accuracy: 0.8050 - val_loss: 0.6028 - val_accuracy: 0.8289\n",
      "Epoch 27/100\n",
      "42000/42000 [==============================] - 4s 101us/sample - loss: 0.6479 - accuracy: 0.8054 - val_loss: 0.5962 - val_accuracy: 0.8302\n",
      "Epoch 28/100\n",
      "42000/42000 [==============================] - 4s 102us/sample - loss: 0.6305 - accuracy: 0.8127 - val_loss: 0.6011 - val_accuracy: 0.8272\n",
      "Epoch 29/100\n",
      "42000/42000 [==============================] - 4s 101us/sample - loss: 0.6149 - accuracy: 0.8139 - val_loss: 0.5933 - val_accuracy: 0.8306\n",
      "Epoch 30/100\n",
      "42000/42000 [==============================] - 4s 102us/sample - loss: 0.6086 - accuracy: 0.8186 - val_loss: 0.5982 - val_accuracy: 0.8317\n",
      "Epoch 31/100\n",
      "42000/42000 [==============================] - 4s 102us/sample - loss: 0.5953 - accuracy: 0.8228 - val_loss: 0.5975 - val_accuracy: 0.8302\n",
      "Epoch 32/100\n",
      "42000/42000 [==============================] - 4s 102us/sample - loss: 0.5852 - accuracy: 0.8245 - val_loss: 0.5959 - val_accuracy: 0.8299\n",
      "Epoch 33/100\n",
      "42000/42000 [==============================] - 4s 102us/sample - loss: 0.5739 - accuracy: 0.8295 - val_loss: 0.5980 - val_accuracy: 0.8308\n",
      "Epoch 34/100\n",
      "42000/42000 [==============================] - 4s 101us/sample - loss: 0.5656 - accuracy: 0.8324 - val_loss: 0.5868 - val_accuracy: 0.8379\n",
      "Epoch 35/100\n",
      "42000/42000 [==============================] - 4s 101us/sample - loss: 0.5554 - accuracy: 0.8341 - val_loss: 0.5873 - val_accuracy: 0.8351\n",
      "Epoch 36/100\n",
      "42000/42000 [==============================] - 4s 103us/sample - loss: 0.5422 - accuracy: 0.8381 - val_loss: 0.5870 - val_accuracy: 0.8368\n",
      "Epoch 37/100\n",
      "42000/42000 [==============================] - 5s 108us/sample - loss: 0.5391 - accuracy: 0.8394 - val_loss: 0.5895 - val_accuracy: 0.8401\n",
      "Epoch 38/100\n",
      "42000/42000 [==============================] - 5s 109us/sample - loss: 0.5341 - accuracy: 0.8422 - val_loss: 0.5912 - val_accuracy: 0.8361\n",
      "Epoch 39/100\n",
      "42000/42000 [==============================] - 5s 112us/sample - loss: 0.5229 - accuracy: 0.8446 - val_loss: 0.5775 - val_accuracy: 0.8437\n",
      "Epoch 40/100\n",
      "42000/42000 [==============================] - 4s 104us/sample - loss: 0.5141 - accuracy: 0.8461 - val_loss: 0.5843 - val_accuracy: 0.8395\n",
      "Epoch 41/100\n",
      "42000/42000 [==============================] - 4s 102us/sample - loss: 0.5048 - accuracy: 0.8489 - val_loss: 0.5832 - val_accuracy: 0.8389\n",
      "Epoch 42/100\n",
      "42000/42000 [==============================] - 4s 103us/sample - loss: 0.4937 - accuracy: 0.8522 - val_loss: 0.5782 - val_accuracy: 0.8436\n",
      "Epoch 43/100\n",
      "42000/42000 [==============================] - 4s 102us/sample - loss: 0.4834 - accuracy: 0.8574 - val_loss: 0.5889 - val_accuracy: 0.8383\n",
      "Epoch 44/100\n",
      "42000/42000 [==============================] - 4s 102us/sample - loss: 0.4803 - accuracy: 0.8589 - val_loss: 0.5891 - val_accuracy: 0.8421\n",
      "Epoch 45/100\n",
      "42000/42000 [==============================] - 4s 105us/sample - loss: 0.4804 - accuracy: 0.8568 - val_loss: 0.5764 - val_accuracy: 0.8438\n",
      "Epoch 46/100\n",
      "42000/42000 [==============================] - 5s 113us/sample - loss: 0.4696 - accuracy: 0.8613 - val_loss: 0.5871 - val_accuracy: 0.8414\n",
      "Epoch 47/100\n",
      "42000/42000 [==============================] - 4s 104us/sample - loss: 0.4621 - accuracy: 0.8622 - val_loss: 0.5790 - val_accuracy: 0.8477\n",
      "Epoch 48/100\n",
      "42000/42000 [==============================] - 4s 103us/sample - loss: 0.4580 - accuracy: 0.8661 - val_loss: 0.5925 - val_accuracy: 0.8437\n",
      "Epoch 49/100\n",
      "42000/42000 [==============================] - 4s 102us/sample - loss: 0.4618 - accuracy: 0.8632 - val_loss: 0.5909 - val_accuracy: 0.8440\n",
      "Epoch 50/100\n",
      "42000/42000 [==============================] - 4s 102us/sample - loss: 0.4398 - accuracy: 0.8718 - val_loss: 0.6001 - val_accuracy: 0.8443\n",
      "Epoch 51/100\n",
      "42000/42000 [==============================] - 4s 103us/sample - loss: 0.4337 - accuracy: 0.8717 - val_loss: 0.5946 - val_accuracy: 0.8458\n",
      "Epoch 52/100\n",
      "42000/42000 [==============================] - 4s 103us/sample - loss: 0.4344 - accuracy: 0.8713 - val_loss: 0.5953 - val_accuracy: 0.8447\n",
      "Epoch 53/100\n",
      "42000/42000 [==============================] - 5s 111us/sample - loss: 0.4339 - accuracy: 0.8734 - val_loss: 0.5937 - val_accuracy: 0.8450\n",
      "Epoch 54/100\n"
     ]
    },
    {
     "name": "stdout",
     "output_type": "stream",
     "text": [
      "42000/42000 [==============================] - 4s 104us/sample - loss: 0.4211 - accuracy: 0.8739 - val_loss: 0.5829 - val_accuracy: 0.8506\n",
      "Epoch 55/100\n",
      "42000/42000 [==============================] - 4s 99us/sample - loss: 0.4185 - accuracy: 0.8755 - val_loss: 0.6168 - val_accuracy: 0.8422\n",
      "Epoch 56/100\n",
      "42000/42000 [==============================] - 4s 99us/sample - loss: 0.4092 - accuracy: 0.8771 - val_loss: 0.6153 - val_accuracy: 0.8430\n",
      "Epoch 57/100\n",
      "42000/42000 [==============================] - 4s 99us/sample - loss: 0.4115 - accuracy: 0.8779 - val_loss: 0.6042 - val_accuracy: 0.8501\n",
      "Epoch 58/100\n",
      "42000/42000 [==============================] - 4s 101us/sample - loss: 0.3909 - accuracy: 0.8841 - val_loss: 0.6030 - val_accuracy: 0.8503\n",
      "Epoch 59/100\n",
      "42000/42000 [==============================] - 4s 99us/sample - loss: 0.4001 - accuracy: 0.8817 - val_loss: 0.6092 - val_accuracy: 0.8490\n",
      "Epoch 60/100\n",
      "42000/42000 [==============================] - 4s 100us/sample - loss: 0.3940 - accuracy: 0.8829 - val_loss: 0.6094 - val_accuracy: 0.8512\n",
      "Epoch 61/100\n",
      "42000/42000 [==============================] - 4s 99us/sample - loss: 0.3812 - accuracy: 0.8867 - val_loss: 0.6136 - val_accuracy: 0.8499\n",
      "Epoch 62/100\n",
      "42000/42000 [==============================] - 4s 100us/sample - loss: 0.3838 - accuracy: 0.8848 - val_loss: 0.6319 - val_accuracy: 0.8488\n",
      "Epoch 63/100\n",
      "42000/42000 [==============================] - 4s 99us/sample - loss: 0.3778 - accuracy: 0.8879 - val_loss: 0.6104 - val_accuracy: 0.8509\n",
      "Epoch 64/100\n",
      "42000/42000 [==============================] - 4s 101us/sample - loss: 0.3760 - accuracy: 0.8877 - val_loss: 0.6254 - val_accuracy: 0.8478\n",
      "Epoch 65/100\n",
      "42000/42000 [==============================] - 4s 101us/sample - loss: 0.3707 - accuracy: 0.8897 - val_loss: 0.6105 - val_accuracy: 0.8519\n",
      "Epoch 66/100\n",
      "42000/42000 [==============================] - 4s 100us/sample - loss: 0.3669 - accuracy: 0.8922 - val_loss: 0.6050 - val_accuracy: 0.8561\n",
      "Epoch 67/100\n",
      "42000/42000 [==============================] - 4s 100us/sample - loss: 0.3615 - accuracy: 0.8935 - val_loss: 0.6080 - val_accuracy: 0.8515\n",
      "Epoch 68/100\n",
      "42000/42000 [==============================] - 4s 101us/sample - loss: 0.3615 - accuracy: 0.8929 - val_loss: 0.6387 - val_accuracy: 0.8476\n",
      "Epoch 69/100\n",
      "42000/42000 [==============================] - 4s 102us/sample - loss: 0.3649 - accuracy: 0.8919 - val_loss: 0.6192 - val_accuracy: 0.8501\n",
      "Epoch 70/100\n",
      "42000/42000 [==============================] - 4s 106us/sample - loss: 0.3482 - accuracy: 0.8971 - val_loss: 0.6302 - val_accuracy: 0.8530\n",
      "Epoch 71/100\n",
      "42000/42000 [==============================] - 4s 101us/sample - loss: 0.3465 - accuracy: 0.8966 - val_loss: 0.6205 - val_accuracy: 0.8557\n",
      "Epoch 72/100\n",
      "42000/42000 [==============================] - 4s 105us/sample - loss: 0.3455 - accuracy: 0.8980 - val_loss: 0.6307 - val_accuracy: 0.8546\n",
      "Epoch 73/100\n",
      "42000/42000 [==============================] - 4s 105us/sample - loss: 0.3464 - accuracy: 0.8970 - val_loss: 0.6382 - val_accuracy: 0.8526\n",
      "Epoch 74/100\n",
      "42000/42000 [==============================] - 4s 105us/sample - loss: 0.3400 - accuracy: 0.8993 - val_loss: 0.6353 - val_accuracy: 0.8540\n",
      "Epoch 75/100\n",
      "42000/42000 [==============================] - 4s 104us/sample - loss: 0.3356 - accuracy: 0.8994 - val_loss: 0.6358 - val_accuracy: 0.8543\n",
      "Epoch 76/100\n",
      "42000/42000 [==============================] - 4s 103us/sample - loss: 0.3443 - accuracy: 0.8990 - val_loss: 0.6459 - val_accuracy: 0.8522\n",
      "Epoch 77/100\n",
      "42000/42000 [==============================] - 4s 101us/sample - loss: 0.3237 - accuracy: 0.9040 - val_loss: 0.6358 - val_accuracy: 0.8553\n",
      "Epoch 78/100\n",
      "42000/42000 [==============================] - 4s 101us/sample - loss: 0.3271 - accuracy: 0.9027 - val_loss: 0.6626 - val_accuracy: 0.8524\n",
      "Epoch 79/100\n",
      "42000/42000 [==============================] - 4s 102us/sample - loss: 0.3170 - accuracy: 0.9055 - val_loss: 0.6546 - val_accuracy: 0.8561\n",
      "Epoch 80/100\n",
      "42000/42000 [==============================] - 4s 102us/sample - loss: 0.3124 - accuracy: 0.9076 - val_loss: 0.6860 - val_accuracy: 0.8513\n",
      "Epoch 81/100\n",
      "42000/42000 [==============================] - 4s 102us/sample - loss: 0.3167 - accuracy: 0.9061 - val_loss: 0.6566 - val_accuracy: 0.8546\n",
      "Epoch 82/100\n",
      "42000/42000 [==============================] - 4s 101us/sample - loss: 0.3102 - accuracy: 0.9065 - val_loss: 0.6437 - val_accuracy: 0.8534\n",
      "Epoch 83/100\n",
      "42000/42000 [==============================] - 4s 102us/sample - loss: 0.3101 - accuracy: 0.9077 - val_loss: 0.6477 - val_accuracy: 0.8571\n",
      "Epoch 84/100\n",
      "42000/42000 [==============================] - 4s 104us/sample - loss: 0.2979 - accuracy: 0.9100 - val_loss: 0.6629 - val_accuracy: 0.8559\n",
      "Epoch 85/100\n",
      "42000/42000 [==============================] - 5s 107us/sample - loss: 0.3050 - accuracy: 0.9103 - val_loss: 0.6703 - val_accuracy: 0.8557\n",
      "Epoch 86/100\n",
      "42000/42000 [==============================] - 4s 104us/sample - loss: 0.3096 - accuracy: 0.9059 - val_loss: 0.6826 - val_accuracy: 0.8470\n",
      "Epoch 87/100\n",
      "42000/42000 [==============================] - 5s 109us/sample - loss: 0.3040 - accuracy: 0.9105 - val_loss: 0.6584 - val_accuracy: 0.8576\n",
      "Epoch 88/100\n",
      "42000/42000 [==============================] - 4s 107us/sample - loss: 0.2999 - accuracy: 0.9106 - val_loss: 0.6854 - val_accuracy: 0.8537\n",
      "Epoch 89/100\n",
      "42000/42000 [==============================] - 4s 96us/sample - loss: 0.2906 - accuracy: 0.9133 - val_loss: 0.6732 - val_accuracy: 0.8566\n",
      "Epoch 90/100\n",
      "42000/42000 [==============================] - 4s 93us/sample - loss: 0.2900 - accuracy: 0.9133 - val_loss: 0.6889 - val_accuracy: 0.8524\n",
      "Epoch 91/100\n",
      "42000/42000 [==============================] - 4s 101us/sample - loss: 0.2862 - accuracy: 0.9148 - val_loss: 0.6867 - val_accuracy: 0.8550\n",
      "Epoch 92/100\n",
      "42000/42000 [==============================] - 4s 106us/sample - loss: 0.2801 - accuracy: 0.9171 - val_loss: 0.7017 - val_accuracy: 0.8516\n",
      "Epoch 93/100\n",
      "42000/42000 [==============================] - 4s 95us/sample - loss: 0.2867 - accuracy: 0.9134 - val_loss: 0.7026 - val_accuracy: 0.8564\n",
      "Epoch 94/100\n",
      "42000/42000 [==============================] - 4s 91us/sample - loss: 0.2855 - accuracy: 0.9155 - val_loss: 0.6999 - val_accuracy: 0.8567\n",
      "Epoch 95/100\n",
      "42000/42000 [==============================] - 4s 91us/sample - loss: 0.2740 - accuracy: 0.9176 - val_loss: 0.7126 - val_accuracy: 0.8554\n",
      "Epoch 96/100\n",
      "42000/42000 [==============================] - 4s 90us/sample - loss: 0.2668 - accuracy: 0.9202 - val_loss: 0.7043 - val_accuracy: 0.8541\n",
      "Epoch 97/100\n",
      "42000/42000 [==============================] - 4s 91us/sample - loss: 0.2773 - accuracy: 0.9175 - val_loss: 0.6936 - val_accuracy: 0.8582\n",
      "Epoch 98/100\n",
      "42000/42000 [==============================] - 4s 91us/sample - loss: 0.2716 - accuracy: 0.9190 - val_loss: 0.7274 - val_accuracy: 0.8578\n",
      "Epoch 99/100\n",
      "42000/42000 [==============================] - 4s 91us/sample - loss: 0.2724 - accuracy: 0.9186 - val_loss: 0.7199 - val_accuracy: 0.8539\n",
      "Epoch 100/100\n",
      "42000/42000 [==============================] - 4s 91us/sample - loss: 0.2691 - accuracy: 0.9206 - val_loss: 0.7306 - val_accuracy: 0.8532\n"
     ]
    },
    {
     "data": {
      "text/plain": [
       "<tensorflow.python.keras.callbacks.History at 0xc88ece71c8>"
      ]
     },
     "execution_count": 98,
     "metadata": {},
     "output_type": "execute_result"
    }
   ],
   "source": [
    "model6.fit(X_train, y_train1, validation_data=(X_test, y_test1),batch_size=300, epochs=100, verbose=1 )"
   ]
  },
  {
   "cell_type": "code",
   "execution_count": 99,
   "metadata": {},
   "outputs": [
    {
     "name": "stdout",
     "output_type": "stream",
     "text": [
      "Accuracy of NN with Adam Optimiser in Batch norm with Drop out on Validation data is  [0.3123038103614633, 0.9279]\n"
     ]
    }
   ],
   "source": [
    "accuracy5 = model6.evaluate(X_test, y_test1, verbose=0)\n",
    "print(\"Accuracy of NN with Adam Optimiser in Batch norm with Drop out on Validation data is \", accuracy4)"
   ]
  }
 ],
 "metadata": {
  "kernelspec": {
   "display_name": "Python 3",
   "language": "python",
   "name": "python3"
  },
  "language_info": {
   "codemirror_mode": {
    "name": "ipython",
    "version": 3
   },
   "file_extension": ".py",
   "mimetype": "text/x-python",
   "name": "python",
   "nbconvert_exporter": "python",
   "pygments_lexer": "ipython3",
   "version": "3.7.7"
  }
 },
 "nbformat": 4,
 "nbformat_minor": 2
}
